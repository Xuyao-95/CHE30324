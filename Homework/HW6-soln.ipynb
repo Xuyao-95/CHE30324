{
 "cells": [
  {
   "cell_type": "markdown",
   "metadata": {
    "ein.tags": "worksheet-0",
    "slideshow": {
     "slide_type": "-"
    }
   },
   "source": [
    "# Chem 30324, Spring 2018, Homework 6\n",
    "\n",
    "# Due March 4, 2019"
   ]
  },
  {
   "cell_type": "markdown",
   "metadata": {
    "ein.tags": "worksheet-0",
    "slideshow": {
     "slide_type": "-"
    }
   },
   "source": [
    "### The diatomic nitric oxide (NO) is an unusual and important molecule. It has an odd number of electrons, which is a rarity for stable molecule. It acts as a signaling molecule in the body, helping to regulate blood pressure, is a primary pollutant from combustion, and is a key constituent of smog. It exists in several isotopic forms, but the most common, ${}^{14}$N= ${}^{16}$O, has a bond length of 1.15077 Å and harmonic vibrational frequency of 1904 cm$^{-1}$."
   ]
  },
  {
   "cell_type": "markdown",
   "metadata": {},
   "source": [
    "## Spin the NO."
   ]
  },
  {
   "cell_type": "markdown",
   "metadata": {
    "ein.tags": "worksheet-0",
    "slideshow": {
     "slide_type": "-"
    }
   },
   "source": [
    "### 1. Calculate the moment of inertia of ${}^{14}$N=${}^{16}$O, in amu Å$^2$, the rotational energy constant, $B=\\hbar^2/2I$, in kJ mol$^{-1}$, and the rotational spectral constant, $\\tilde{B}=B/hc$,  in cm$^{-1}$."
   ]
  },
  {
   "cell_type": "markdown",
   "metadata": {},
   "source": [
    "Moment of inertia: $I=\\mu r^2$"
   ]
  },
  {
   "cell_type": "code",
   "execution_count": 8,
   "metadata": {},
   "outputs": [
    {
     "name": "stdout",
     "output_type": "stream",
     "text": [
      "The moment of inertia of N=O is 9.890129 amu*angstrom^2, the rotational energy constant B is 2.039016E-02 KJ/mol, the rotational spectral constant B tilde is 1.704484 cm^-1.\n"
     ]
    }
   ],
   "source": [
    "import numpy as np\n",
    "\n",
    "N = 14.0067  # amu\n",
    "O = 15.999  # amu\n",
    "mu = N*O/(N+O)  # amu\n",
    "r = 1.15077  # bond length (angstrom)\n",
    "h = 6.62607E-34  # J*s\n",
    "hbar = 1.05457E-34  # J*s\n",
    "NA = 6.02214E23\n",
    "c = 299792458  # m/s\n",
    "\n",
    "I = mu*r**2  # amu*angstrom^2\n",
    "I_ = I*1.660539040E-27*1E-20  # kg*m^2\n",
    "B = hbar**2/(2*I_)  # J\n",
    "Btilde = B/h/c  # m\n",
    "\n",
    "print(\"The moment of inertia of N=O is %f amu*angstrom^2, the rotational energy constant B is %E KJ/mol, the rotational spectral constant B tilde is %f cm^-1.\"%(I,B*NA/1000,Btilde/100))\n"
   ]
  },
  {
   "cell_type": "markdown",
   "metadata": {
    "ein.tags": "worksheet-0",
    "slideshow": {
     "slide_type": "-"
    }
   },
   "source": [
    "### 2. Imagine that the NO molecule is adsorbed flat on a surface upon which it is free to rotate. Plot out the energies of the four lowest-energy rotational quantum states, in units of $\\tilde{B}$, being sure to include appropriate quantum numbers and degeneracies. Also indicate the total rotational angular moment of each state, in units of $\\hbar$."
   ]
  },
  {
   "cell_type": "markdown",
   "metadata": {},
   "source": [
    "$\\because$ adsorbed flat on surface,\n",
    "\n",
    "$\\therefore$ 2-D rigid rotor model: $E_{m_l}=\\frac{\\hbar^2}{2I}m_l^2=Bm^2_l$\n",
    "\n",
    "Four rotational quantum states with lowest energy: $m_l=0,\\pm1,\\pm2,\\pm3$.\n",
    "\n",
    "Total rotational angular moment: $L_z=m_l\\hbar$."
   ]
  },
  {
   "cell_type": "markdown",
   "metadata": {
    "ein.tags": "worksheet-0",
    "slideshow": {
     "slide_type": "-"
    }
   },
   "source": [
    "### 3. Whether light can induce an NO to jump from some rotational level $m_l$ to some other one $m_l^\\prime$ is determined by whether the transition dipole moment integral $\\langle\\psi_{m_l}\\lvert x\\rvert\\psi_{m_l'}\\rangle$ is zero or non-zero.  Find the *selection rule*  on $\\Delta m_l$ that make  the integral non-zero.  Recall that $x$ can be written $r \\cos\\phi$  in polar coordinates."
   ]
  },
  {
   "cell_type": "markdown",
   "metadata": {},
   "source": [
    "Wave function for 2-D rotor model: $\\psi_{m_l}(\\phi)=\\frac{1}{\\sqrt{2\\pi}}e^{-im_l\\phi}$,$m_l=0,\\pm1,\\pm2,...$\n",
    "\n",
    "Transition dipole moment integral: $\\langle \\psi_{m_l}\\lvert x\\rvert \\psi_{m'_l} \\rangle=\\int^{2\\pi}_0\\frac{1}{\\sqrt{2\\pi}}e^{im_l\\phi}x\\frac{1}{\\sqrt{2\\pi}}e^{-im'_l\\phi}=\\frac{r}{2\\pi}\\int^{2\\pi}_{0}e^{i\\Delta m_l\\phi}d\\phi$\n",
    "\n",
    "$\\because cos\\phi=\\frac{1}{2}*(e^{-i\\phi}+e^{\\phi})$, \n",
    "\n",
    "$\\therefore \\langle \\psi_{m_l}\\lvert x\\rvert \\psi_{m'_l} \\rangle=\\int^{2\\pi}_0 \\frac{r}{4\\pi}(e^{i(\\Delta m_l-1)\\phi}+e^{i(\\Delta m_l+1)\\phi})d\\phi$.\n",
    "\n",
    "$\\because$ For an integer $n$, we can have $\\int^{2\\pi}_{0}e^{ni\\phi}d\\phi \\neq0$ only when $n=0$.\n",
    "\n",
    "$\\therefore$ We can have $\\langle \\psi_{m_l}\\lvert x\\rvert \\psi_{m'_l} \\rangle \\neq 0$ only when $\\Delta m_l=\\pm1.$"
   ]
  },
  {
   "cell_type": "markdown",
   "metadata": {},
   "source": [
    "### 4. Use your selection rule to determine the frequencies, in wavenumbers, of the four lowest-energy rotational transitions of an ${}^{14}$N=${}^{16}$O adsorbed flat on a surface."
   ]
  },
  {
   "cell_type": "markdown",
   "metadata": {},
   "source": [
    "Four lowest-energy rotational transitions:\n",
    "\n",
    "$\\Delta m_l=0$ to $\\Delta m_l=\\pm1$,\n",
    "\n",
    "$\\Delta m_l=\\pm1$ to $\\Delta m_l=\\pm2$,\n",
    "\n",
    "$\\Delta m_l=\\pm2$ to $\\Delta m_l=\\pm3$,\n",
    "\n",
    "$\\Delta m_l=\\pm3$ to $\\Delta m_l=\\pm4$.\n",
    "\n",
    "Energy change: $\\Delta E_{m_l}$\n",
    "\n",
    "$\\Delta m_l=0$ to $\\Delta m_l=\\pm1$: $\\Delta E_{m_l}=B$\n",
    "\n",
    "$\\Delta m_l=\\pm1$ to $\\Delta m_l=\\pm2$: $\\Delta E_{m_l}=3B$\n",
    "\n",
    "$\\Delta m_l=\\pm2$ to $\\Delta m_l=\\pm3$: $\\Delta E_{m_l}=5B$\n",
    "\n",
    "$\\Delta m_l=\\pm3$ to $\\Delta m_l=\\pm4$: $\\Delta E_{m_l}=7B$\n",
    "\n",
    "Wavenumber: $\\tilde{\\nu}=\\frac{\\Delta E_{m_l}}{hc}$\n",
    "\n",
    "$\\Delta m_l=0$ to $\\Delta m_l=\\pm1$: $\\tilde{\\nu}=\\frac{B}{hc}$\n",
    "\n",
    "$\\Delta m_l=\\pm1$ to $\\Delta m_l=\\pm2$: $\\tilde{\\nu}=\\frac{3B}{hc}$\n",
    "\n",
    "$\\Delta m_l=\\pm2$ to $\\Delta m_l=\\pm3$: $\\tilde{\\nu}=\\frac{5B}{hc}$\n",
    "\n",
    "$\\Delta m_l=\\pm3$ to $\\Delta m_l=\\pm4$: $\\tilde{\\nu}=\\frac{7B}{hc}$\n"
   ]
  },
  {
   "cell_type": "code",
   "execution_count": 43,
   "metadata": {},
   "outputs": [
    {
     "name": "stdout",
     "output_type": "stream",
     "text": [
      "0 to 1: v=170.330529 cm^-1\n",
      "1 to 2: v=510.991588 cm^-1\n",
      "2 to 3: v=851.652647 cm^-1\n",
      "3 to 4: v=1192.313706 cm^-1\n"
     ]
    }
   ],
   "source": [
    "v=[]\n",
    "for l in [0,1,2,3]:\n",
    "    v.append(B*(2*l+1)/h/c)\n",
    "    print(\"%i to %i: v=%f cm^-1\"%(l,l+1,v[l]))"
   ]
  },
  {
   "cell_type": "markdown",
   "metadata": {},
   "source": [
    "## NO flips"
   ]
  },
  {
   "cell_type": "markdown",
   "metadata": {
    "ein.tags": "worksheet-0",
    "slideshow": {
     "slide_type": "-"
    }
   },
   "source": [
    "### 5. Now imagine the NO molecule is free to rotate in three-dimensional space. As in Question 2 above, plot out the energies of the four lowest-energy rotational quantum states, in units of $\\tilde{B}$, being sure to include appropriate quantum numbers and degeneracies."
   ]
  },
  {
   "cell_type": "markdown",
   "metadata": {},
   "source": [
    "$\\because$ free to rotate in 3-d,\n",
    "\n",
    "$\\therefore$ 3-D rigid rotor model: $E_l=\\frac{\\hbar^2}{2I}l(l+1)=Bl(l+1)$\n",
    "\n",
    "Four rotational quantum states with lowest energy: $l=0,1,2,3$.\n",
    "\n",
    "Total rotational angular moment: $|L|=\\hbar\\sqrt{l(l+1)}$."
   ]
  },
  {
   "cell_type": "markdown",
   "metadata": {},
   "source": [
    "### 6. Predict the relative populations of the first four rotational quantum states at 298 K.  Do you expect one or all of these states to potentially contribute to the rotational spectrum of NO?"
   ]
  },
  {
   "cell_type": "markdown",
   "metadata": {},
   "source": [
    "We can use boltzmann distribution to get relative poputlations for the first four totational quantum states. \n",
    "\n",
    "Probability of state $l$: $p_l\\propto g_j e^{\\frac{-E_l}{kT}}$ ($g_l$: degeneracy)\n",
    "\n",
    "Populations: $P_l=\\frac{p_l}{\\sum^{\\infty}_{l=0}p_l}$"
   ]
  },
  {
   "cell_type": "code",
   "execution_count": 39,
   "metadata": {},
   "outputs": [
    {
     "name": "stdout",
     "output_type": "stream",
     "text": [
      "When l=0, relative population P=6.643678e-02.\n",
      "\n",
      "When l=1, relative population P=1.960568e-01.\n",
      "\n",
      "When l=2, relative population P=3.161801e-01.\n",
      "\n",
      "When l=3, relative population P=4.213263e-01.\n",
      "\n"
     ]
    }
   ],
   "source": [
    "k = 1.38064852E-23  # m^2*kg*s^-2*K^-1, boltzmann constant\n",
    "T = 298  # K\n",
    "hbar = 1.05457E-34  # J*s\n",
    "N = 14.0067  # amu\n",
    "O = 15.999  # amu\n",
    "mu = N*O/(N+O)  # amu\n",
    "I = mu*r**2*1.660539040E-27*1E-20  # kg*m^2\n",
    "\n",
    "B = hbar**2/2/I\n",
    "\n",
    "sump = 0  # set the initial value for sum of P.\n",
    "p,P = [],[]\n",
    "\n",
    "for l in range(0,4):\n",
    "    p.append((2*l+1)*np.exp(-(B*l*(l+1))/k/T))\n",
    "    sump += p[l]\n",
    "\n",
    "for l in [0,1,2,3]:\n",
    "    P.append(p[l]/sump)\n",
    "    print(\"When l=%i, relative population P=%e.\\n\"%(l,P[l]))"
   ]
  },
  {
   "cell_type": "markdown",
   "metadata": {},
   "source": [
    "When $\\frac{dP_l}{dl}=0$, we can get the maximum point where has a $l_{max}$. When $l>l_{max}$, $P_l$ will get smaller gradually, finally it could be negligible. "
   ]
  },
  {
   "cell_type": "markdown",
   "metadata": {},
   "source": [
    "### 7. The selection rule for a molecule rotating freely in space is that $\\Delta l = \\pm 1$. Predict the frequencies of the four lowest energy transitions in the rotational spectrum of ${}^{14}$N=${}^{16}$O, in cm$^{-1}$.  Could you use rotational spectroscopy to distinguish between NO spinning on a surface and rotating in space?"
   ]
  },
  {
   "cell_type": "markdown",
   "metadata": {},
   "source": [
    "$\\Delta E_{l-1\\rightarrow l}=Bl(l+1)-B(l-1)l$\n",
    "\n",
    "$\\tilde{\\nu}=\\frac{E_l}{hc}$"
   ]
  },
  {
   "cell_type": "code",
   "execution_count": 48,
   "metadata": {},
   "outputs": [
    {
     "name": "stdout",
     "output_type": "stream",
     "text": [
      "From l=0 to l=1: v=340.661059 cm^-1.\n",
      "\n",
      "From l=1 to l=2: v=681.322118 cm^-1.\n",
      "\n",
      "From l=2 to l=3: v=1021.983177 cm^-1.\n",
      "\n",
      "From l=3 to l=4: v=1362.644236 cm^-1.\n",
      "\n"
     ]
    }
   ],
   "source": [
    "v = []\n",
    "for l in [1,2,3,4]:\n",
    "    v.append(B*(l*(l+1)-l*(l-1))/h/c)\n",
    "    print(\"From l=%i to l=%i: v=%f cm^-1.\\n\"%(l-1,l,v[l-1]))"
   ]
  },
  {
   "cell_type": "markdown",
   "metadata": {},
   "source": [
    "I can use rotational spectroscopy to distinguish between NO spinning on a surface and rotating in space."
   ]
  },
  {
   "cell_type": "markdown",
   "metadata": {
    "ein.tags": "worksheet-0",
    "slideshow": {
     "slide_type": "-"
    }
   },
   "source": [
    "### 8. Use the vector model to sketch the total angular momentum vectors consistent with $l = 1$."
   ]
  },
  {
   "cell_type": "markdown",
   "metadata": {},
   "source": [
    "![](https://github.com/yixiaohou1/P-Chem/raw/master/1.jpg)"
   ]
  },
  {
   "cell_type": "markdown",
   "metadata": {},
   "source": [
    "## NO takes a stretch"
   ]
  },
  {
   "cell_type": "markdown",
   "metadata": {},
   "source": [
    "### 9. One of the selection rules for light to excite a vibration of a molecule is that the dipole moment of the molecule changes as it vibrates.  Based on this criterion, do you expect NO to exhibit an infrared absorption vibrational spectrum? "
   ]
  },
  {
   "cell_type": "markdown",
   "metadata": {},
   "source": [
    "One infrared spectrum. For NO, the magnitude of positive and negative changes in vibration motion. When they are closer, the magnitude decreases (more neutral), and vice versa."
   ]
  },
  {
   "cell_type": "markdown",
   "metadata": {},
   "source": [
    "### 10. Another vibrational absorption selection rule is that $\\Delta v = \\pm 1$.  At ambient temperature, what initial and final vibrational states contribute most significantly to the NO spectrum? Justify your answer."
   ]
  },
  {
   "cell_type": "markdown",
   "metadata": {},
   "source": [
    "At 273K, the most occupied vibrational states are n=0 and n=1. Therefore, these states contribute most significantly to the NO spectrum. "
   ]
  },
  {
   "cell_type": "markdown",
   "metadata": {},
   "source": [
    "There's also a quantitative way to proof this, which uses the Boltzmann distribution, $$P_{unnormalized}=e^{\\frac{-E}{kT}},\\quad where E=(n+\\frac{1}{2})hv=(n+\\frac{1}{2})hc\\bar{v},\\quad \\bar{v}=190400 m^{-1}$$"
   ]
  },
  {
   "cell_type": "code",
   "execution_count": 9,
   "metadata": {},
   "outputs": [
    {
     "name": "stdout",
     "output_type": "stream",
     "text": [
      "The population of n = [0,1,2,3] is [1.00,4.334762E-05,1.879097E-09,8.145793E-14]\n"
     ]
    }
   ],
   "source": [
    "import numpy as np\n",
    "h = 6.62607004E-34 # J*s\n",
    "v = 190400 # m^-1\n",
    "c = 3e8 # m/s\n",
    "T = 273 #K\n",
    "k = 1.38e-23 # J/K\n",
    "\n",
    "P = [] \n",
    "for n in [0,1,2,3]: # let's check population at lowest four energy levels\n",
    "    E = (n+0.5)*h*c*v\n",
    "    P.append(np.exp(-E/k/T))\n",
    "print(\"The population of n = [0,1,2,3] is [%.2f,%E,%E,%E]\"%(P[0]/sum(P),P[1]/sum(P),P[2]/sum(P),P[3]/sum(P)))"
   ]
  },
  {
   "cell_type": "markdown",
   "metadata": {
    "ein.tags": "worksheet-0",
    "slideshow": {
     "slide_type": "-"
    }
   },
   "source": [
    "### 11. Predict the harmonic vibrational frequency of the heavier cousin of $^{14}$N=$^{16}$O, $^{15}$N=$^{18}$O, in cm$^{-1}$. Assume the force constant is independent of isotope. Do you think these two isotopes could be distinguished using infrared spectroscopy?"
   ]
  },
  {
   "cell_type": "markdown",
   "metadata": {},
   "source": [
    "Isotopes produce distinct lines in infrared spectroscopy due to their difference in mass. The vibrational frequency os heavier NO is as follows: $$v=1904 cm^{-1}=\\sqrt{\\frac{k}{\\mu}}*\\frac{1}{2\\pi hc}, \\quad  \\frac{v_2}{v_1}=\\sqrt{\\frac{\\mu1}{\\mu2}},\\quad \\frac{v_2}{1904}==\\sqrt{\\frac{7.47}{8.18}}=0.955,\\quad v_2=1818 cm^{-1}$$"
   ]
  },
  {
   "cell_type": "code",
   "execution_count": 10,
   "metadata": {},
   "outputs": [
    {
     "name": "stdout",
     "output_type": "stream",
     "text": [
      "Frequency= 1818.885722 cm-1\n"
     ]
    }
   ],
   "source": [
    "import numpy as np\n",
    "mu1 = 14*16/(14+16)\n",
    "mu2 = 15*18/(15+18)\n",
    "v = 1904*np.sqrt(mu1)/np.sqrt(mu2)\n",
    "print(\"Frequency= %f cm-1\"%v)"
   ]
  },
  {
   "cell_type": "markdown",
   "metadata": {},
   "source": [
    "### 12. Do you expect NO to exhibit a Raman vibrational spectrum? Why or why not? If so, what initial and final vibrational states contribute most significantly to the spectrum?"
   ]
  },
  {
   "cell_type": "markdown",
   "metadata": {},
   "source": [
    "No Raman spectrum. Raman vibrational spectrum doesn't show peaks for heteronuclear atoms."
   ]
  },
  {
   "cell_type": "markdown",
   "metadata": {
    "ein.tags": "worksheet-0",
    "slideshow": {
     "slide_type": "-"
    }
   },
   "source": [
    "\n",
    "### 13. NO$_2$ readily forms from NO in the presence of oxygen. An infrared spectrum of NO$_2$ has three features, at 1318, 750, and 1618 cm$^{-1}$ . Is NO$_2$ a linear or bent molecule? Justify your answer."
   ]
  },
  {
   "cell_type": "markdown",
   "metadata": {},
   "source": [
    "Linear molecule has 3n-5=4 vibrational mode while nonlinear molecule has 3n-6=3 vibrational mode. Therefore, molecule is bent. "
   ]
  },
  {
   "cell_type": "markdown",
   "metadata": {},
   "source": [
    "## I see the light!"
   ]
  },
  {
   "cell_type": "markdown",
   "metadata": {
    "autoscroll": false,
    "ein.hycell": false,
    "ein.tags": "worksheet-0",
    "slideshow": {
     "slide_type": "-"
    }
   },
   "source": [
    "### 14. What is the difference between stimulated absorption and stimulated emission? How do the intrinsic rates of these two processes compare?"
   ]
  },
  {
   "cell_type": "markdown",
   "metadata": {},
   "source": [
    "* In stimulated absorption, an incident photon is adsorbed/energy level increases. In stimulated emission, two photons are emitted when an incident photon is absorbed/energy level drops. \n",
    "* The intrinsic rates of both processes share the same rate constant. Also, they are both proportional to the populations of the corresponding energy levels that originates the absorption/emission. The population is determined by temperature, according to Boltzmann distribution $e^{-E/k_bT}$."
   ]
  },
  {
   "cell_type": "markdown",
   "metadata": {
    "autoscroll": false,
    "ein.hycell": false,
    "ein.tags": "worksheet-0",
    "slideshow": {
     "slide_type": "-"
    }
   },
   "source": [
    "### 15. Under which of Einstein’s categories does “fluorescence” belong? Fluorescence is often used to study transitions with energies of a couple eV or more (corresponding to visible or higher energy light), but seldom/never used to study infrared or similar low energy (fractions of an eV) processes. Give a couple reasons why."
   ]
  },
  {
   "cell_type": "markdown",
   "metadata": {},
   "source": [
    "\"Fluorescence\" belongs to spontaneous emission. \n",
    "* The higher the energy of initial energy level, the faster and stronger the fluorescence produced. This is because rate of emission $\\propto (\\Delta E)^3$\n",
    "* \"High energy level\" is likely to be empty. To study transition, we want to make sure that the emissions orignate only from electrons that we have excited from ground state. Large $\\Delta E$ will do us the favor."
   ]
  }
 ],
 "metadata": {
  "anaconda-cloud": null,
  "kernelspec": {
   "display_name": "Python 3",
   "language": "python",
   "name": "python3"
  },
  "language_info": {
   "codemirror_mode": {
    "name": "ipython",
    "version": 3
   },
   "file_extension": ".py",
   "mimetype": "text/x-python",
   "name": "python",
   "nbconvert_exporter": "python",
   "pygments_lexer": "ipython3",
   "version": "3.7.1"
  },
  "name": "HW6.ipynb"
 },
 "nbformat": 4,
 "nbformat_minor": 1
}
