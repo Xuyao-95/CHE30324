{
 "cells": [
  {
   "cell_type": "markdown",
   "metadata": {},
   "source": [
    "# Chem 30324, Spring 2019, Homework 5\n",
    "Due Febrary 25, 2019"
   ]
  },
  {
   "cell_type": "markdown",
   "metadata": {},
   "source": [
    "## Real-world particle-in-a-box.\n",
    "### A one-dimensional particle-in-a-box is a simple but plausible model for the π electrons of a conjugated alkene, like butadiene ($C_4H_6$, shown here). Suppose all the C–C bonds in a polyene are 1.4 Å long and the polyenes are perfectly linear."
   ]
  },
  {
   "cell_type": "markdown",
   "metadata": {},
   "source": [
    "<img src=\"imgs/HW5-1.png\"  width=\"360\">"
   ]
  },
  {
   "cell_type": "markdown",
   "metadata": {},
   "source": [
    "### 1. Plot out the energies of the $n = 1 – 6$ particle-in-a-box states for ethylene (2 carbon chain), butadiene (4 carbon chain), hexatriene (6 carbon chain), octatetraene (8 carbon chain), and decapentaene (10 carbon chain). What happens to the spacing between energy levels as the molecule gets longer? As $n$ gets larger?"
   ]
  },
  {
   "cell_type": "markdown",
   "metadata": {},
   "source": [
    "### 2. Plot out the normalized $n = 2$ particle-in-a-box wavefunction for an electron in butadiene and the normalized $n = 2$ probability distribution. Indicate on the plots the most probable location(s) of the electron, the average location of the electron, and the positions of any nodes."
   ]
  },
  {
   "cell_type": "markdown",
   "metadata": {},
   "source": [
    "### 3. Butadiene has 4 π electrons, and we will learn later that in its lowest energy state, two of these are in the $n = 1$ and two in the $n = 2$ levels. Compare the wavelength of light (in nm) necessary to excite one electron from either of these levels to the empty $n = 3$ level."
   ]
  },
  {
   "cell_type": "markdown",
   "metadata": {},
   "source": [
    "### 4. We’ll learn later that the probability of an electron jumping between two energy states by emitting or absorbing light is proportional to the square of the “transition dipole,” given by the integral $\\lvert\\langle\\psi_{initial}\\lvert \\hat{x}\\rvert\\psi_{final}\\rangle\\rvert^2$. Contrast the relative probabilities of an electron jumping from $n = 1$ to $n = 3$ and from $n = 2$ to $n = 3$ levels. Can you propose any general rules about “allowed” and \"forbidden\" jumps?"
   ]
  },
  {
   "cell_type": "markdown",
   "metadata": {},
   "source": [
    "### 5. Consider the reaction of two ethylene molecules to form butadiene:\n",
    "<img src=\"imgs/HW5-2.png\"  width=\"360\">"
   ]
  },
  {
   "cell_type": "markdown",
   "metadata": {},
   "source": [
    "### As a very simple estimate, you could take the energy of each molecule as the sum of the energies of its π electrons, allowing only two electrons per energy level. Again taking each C—C bond as 1.4 Å long and treating the π electrons as particles in a box, calculate the total energy of an ethylene and a butadiene molecule within this model (in kJ/mol), and from these calculate the net reaction energy. Compare your results to the experimental reaction enthalpy. How well did the model do?"
   ]
  },
  {
   "cell_type": "markdown",
   "metadata": {},
   "source": [
    "### 6. This particle-in-a-box model has many flaws, not the least of which is that the ends of the polyene “box” are not infinitely high potential walls. In a somewhat better model the π electrons would travel in a finite-depth potential well. State two things that would change from the infinite depth to the finite depth model."
   ]
  },
  {
   "cell_type": "markdown",
   "metadata": {},
   "source": [
    "## Really large box with a particle.\n",
    "### A gas molecule rattling around in a bottle can be described as a particle in a 3-dimensional box. Consider ethylene gas in a cubic “bottle” 1 m on a side."
   ]
  },
  {
   "cell_type": "markdown",
   "metadata": {},
   "source": [
    "### 7. What is the particle-in-a-box “zero point energy” of one of these ethylene molecules, in kJ/mol? Is this energy of chemical significance?"
   ]
  },
  {
   "cell_type": "markdown",
   "metadata": {},
   "source": [
    "### 8. According to the kinetic theory of gases, what is the average kinetic energy of an ethylene molecule at 298 K? What is the approximate value of $n = \\sqrt{n_x^2 + n_y^2 + n_z^2}$ of a gas molecule molecule with this energy at 298 K?"
   ]
  },
  {
   "cell_type": "markdown",
   "metadata": {},
   "source": [
    "### 9. What is the energy difference between the $n$ and $n + 1$ levels (in kJ/mol)? Is it possible to determine the exact value of $n$ for a particular molecule?"
   ]
  },
  {
   "cell_type": "markdown",
   "metadata": {
    "collapsed": true
   },
   "source": [
    "## Quantum mechanics of vibrating NO.\n",
    "### The diatomic nitric oxide (NO) is an unusual and important molecule. It has an odd number of electrons, which is a rarity for stable molecule. It acts as a signaling molecule in the body, helping to regulate blood pressure, is a primary pollutant from combustion, and is a key constituent of smog. It exists in several isotopic forms, but the most common, ${}^{14}$N= ${}^{16}$O, has a bond length of 1.15077 Å and harmonic vibrational frequency of 1904 cm$^{-1}$."
   ]
  },
  {
   "cell_type": "markdown",
   "metadata": {},
   "source": [
    "### 10. The ground vibrational wavefunction of N=O can be written "
   ]
  },
  {
   "cell_type": "markdown",
   "metadata": {},
   "source": [
    "$$\\Psi_{\\upsilon=0}(x) = \\left ({\\frac{1}{\\alpha\\sqrt{\\pi}}}\\right )^{1/2}e^{-x^2/2\\alpha^2}, \\quad x = R-R_{eq}, \\quad \\alpha = \\left ({\\frac{\\hbar^2}{\\mu k}}\\right )^{1/4}$$"
   ]
  },
  {
   "cell_type": "markdown",
   "metadata": {},
   "source": [
    "### where $x = R-R_{eq}$. Calculate $\\langle x\\rangle$ and $\\langle x^2\\rangle$ for NO in the $\\Psi_{\\upsilon=0}(x)$ state (you might want to use $\\alpha$ as a length unit)."
   ]
  },
  {
   "cell_type": "markdown",
   "metadata": {},
   "source": [
    "### 11. Calculate the average potential energy, $\\langle V(x)\\rangle$, in the ground state, in units of hν. Hint: This is trivial to calculate given the answer to question 10!"
   ]
  },
  {
   "cell_type": "markdown",
   "metadata": {},
   "source": [
    "### 12. Using conservation of energy and your answer to question 11, calculate the average kinetic energy, $\\langle T(x)\\rangle$, in the ground state, in units of $h\\nu$. Comment on the relationship between the kinetic and potential energies. This is a general result for all $\\nu$, and is a consequence of the [virial theorem](https://en.wikipedia.org/wiki/Virial_theorem) for the harmonic potential."
   ]
  },
  {
   "cell_type": "markdown",
   "metadata": {},
   "source": [
    "### 13. Calculate the classical minimum and maximum values of the $^{14}$N=$^{16}$O bond length for a molecule in the ground vibrational state. Hint: Calculate the classical limits on x, the value of x at which the kinetic energy is 0 and thus the total energy equals the potential energy."
   ]
  },
  {
   "cell_type": "markdown",
   "metadata": {},
   "source": [
    "### 14. Calculate the probability for a quantum mechanical ${}^{14}N= {}^{16}O$ molecule to have a bond length outside the classical limits. This is an example of quantum mechanical tunneling."
   ]
  },
  {
   "cell_type": "markdown",
   "metadata": {},
   "source": [
    "## Statistical mechanics of vibrating NO"
   ]
  },
  {
   "cell_type": "markdown",
   "metadata": {},
   "source": [
    "### 15. Using your knowledge of the harmonic oscillator and the Boltzmann distribution, complete the table below for the first four harmonic vibrational states of $^{14}$N=$^{16}$O."
   ]
  },
  {
   "cell_type": "markdown",
   "metadata": {},
   "source": [
    "|Quantum number|Energy (kJ/mol)| Relative population at 400 K| Relative population at 410 K |\n",
    "|--------------|---------------|-----------------------------|----------|\n",
    "| $v=0$ | | | |\n",
    "|  $v = 1$ |   |   |  | \n",
    "| $v=2$ | | | |\n",
    "| $v=3$ | | | |"
   ]
  },
  {
   "cell_type": "markdown",
   "metadata": {},
   "source": [
    "### 16. Use the table to estimate the average vibrational energy of a mole of $^{14}$N=$^{16}$O at 400 and 410 K."
   ]
  },
  {
   "cell_type": "markdown",
   "metadata": {},
   "source": [
    "### 17. Use your answer to Question 16 to estimate the vibrational heat capacity ($dE/dT$) of a mole of $^{14}$N=$^{16}$O in this temperature range. How does your answer compare to the classical estimate, $R=8.314$ J/mol K?"
   ]
  }
 ],
 "metadata": {
  "anaconda-cloud": {},
  "kernelspec": {
   "display_name": "Python [conda env:Python3]",
   "language": "python",
   "name": "conda-env-Python3-py"
  },
  "language_info": {
   "codemirror_mode": {
    "name": "ipython",
    "version": 3
   },
   "file_extension": ".py",
   "mimetype": "text/x-python",
   "name": "python",
   "nbconvert_exporter": "python",
   "pygments_lexer": "ipython3",
   "version": "3.7.2"
  }
 },
 "nbformat": 4,
 "nbformat_minor": 1
}
