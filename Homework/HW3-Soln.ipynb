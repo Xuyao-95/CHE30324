{
 "cells": [
  {
   "cell_type": "markdown",
   "metadata": {
    "collapsed": true
   },
   "source": [
    "# Chem 30324, Spring 2019, Homework3\n",
    "\n",
    "# Due February 6, 2019"
   ]
  },
  {
   "cell_type": "markdown",
   "metadata": {},
   "source": [
    "## Blackbody radiators.\n",
    "By treating the sun as a blackbody radiator, Joseph Stefan derived the first reliable estimate of the temperature of the sun’s surface."
   ]
  },
  {
   "cell_type": "markdown",
   "metadata": {},
   "source": [
    "### 1. Stefan estimated that the power per unit area radiated from the surface of the sun was 43.5 times greater than that of a metal bar heated to 1950 ̊C. What is the temperature of the sun?"
   ]
  },
  {
   "cell_type": "code",
   "execution_count": 10,
   "metadata": {},
   "outputs": [
    {
     "name": "stdout",
     "output_type": "stream",
     "text": [
      "Power of the sun = 60248658.478255 W\n",
      "Temperature of sun's surface = 5709.408018 K\n"
     ]
    }
   ],
   "source": [
    "sigma = 5.67e-8        #W/(m^2*K^4)\n",
    "T1 = 1950 + 273.15     #K  temperature of metal bar\n",
    "P1 = sigma*T1**4       #Watt  power per area of metal bar\n",
    "P2 = P1 * 43.5         #Watt  power per area of sun's surface\n",
    "T2 = (P2/sigma)**0.25  #K  temperature of sun's surface\n",
    "print (\"Power of the sun = %f W\"%(P2))\n",
    "print (\"Temperature of sun's surface = %f K\"%(T2))"
   ]
  },
  {
   "cell_type": "markdown",
   "metadata": {},
   "source": [
    "### 2. Based on this temperature, what wavelength $\\lambda$ of light does the sun emit most intensely, in nm? What frequency of light, in s$^{–1}$? What color does this correspond to?"
   ]
  },
  {
   "cell_type": "code",
   "execution_count": 11,
   "metadata": {},
   "outputs": [
    {
     "name": "stdout",
     "output_type": "stream",
     "text": [
      "Sun emit light at wavelength = 507.542637 nm, frequency = 5.910833E+14 s^-1 most intensely.\n",
      "This corresponds to green color.\n"
     ]
    }
   ],
   "source": [
    "Wien_constant = 2897768    #nm*K  \n",
    "lambd = Wien_constant/T2   #nm  maximum wavelength\n",
    "c = 3e17                   #nm/s speed of light\n",
    "freq = c/lambd             #frequency of light\n",
    "print (\"Sun emit light at wavelength = %f nm, frequency = %E s^-1 most intensely.\"%(lambd,freq))\n",
    "print (\"This corresponds to green color.\")"
   ]
  },
  {
   "cell_type": "markdown",
   "metadata": {},
   "source": [
    "### 3. What is the ultraviolet catastrophe, and what did Planck have to assume to circumvent it?"
   ]
  },
  {
   "cell_type": "markdown",
   "metadata": {},
   "source": [
    "In classical physics, Rayleigh-Jeans law predicted that radiation intensity (& energy) approach infinity at small wavelengths, which contradicts with the idea of energy conservation. This phenomena is known as the ultraviolet catastrophe. Planck assumed that energy is quantized, which means electromagnetic radiation can only be emitted or absorbed in discrete energies."
   ]
  },
  {
   "cell_type": "markdown",
   "metadata": {},
   "source": [
    "## Photoelectric effect.\n",
    "The photoelectric effect refers to the emission of electrons that is observed when light is shone on a metal. The effect was the clue that Einstein needed to illucidate the particulate nature of the interaction of light and matter."
   ]
  },
  {
   "cell_type": "markdown",
   "metadata": {},
   "source": [
    "### 4. You set up an experiment in which you shine light of varying intensity and constant frequency at a metal surface and measure the maximum kinetic energy of the emitted electrons. As an accomplished student of classical physics, you know that the energy contained in a wave is proportional to the square of its intensity. Based on this knowledge, sketch how you $expect$ the kinetic energy of the electrons to vary in the experiment. Briefly justify your answer."
   ]
  },
  {
   "cell_type": "code",
   "execution_count": 12,
   "metadata": {},
   "outputs": [
    {
     "data": {
      "text/plain": [
       "([], <a list of 0 Text yticklabel objects>)"
      ]
     },
     "execution_count": 12,
     "metadata": {},
     "output_type": "execute_result"
    },
    {
     "data": {
      "image/png": "[encoded data removed]",
      "text/plain": [
       "<Figure size 432x288 with 1 Axes>"
      ]
     },
     "metadata": {},
     "output_type": "display_data"
    }
   ],
   "source": [
    "import numpy as np\n",
    "import matplotlib.pyplot as plt\n",
    "I = np.linspace(0, 100)      #let I be between 0 and 2pi\n",
    "E = I**2                     #E=A^2\n",
    "plt.plot(I,E)                #plot\n",
    "plt.xlabel(\"Intensity\")\n",
    "plt.ylabel(\"Energy\")\n",
    "plt.xticks([])\n",
    "plt.yticks([])"
   ]
  },
  {
   "cell_type": "markdown",
   "metadata": {},
   "source": [
    "### 5. Not finding a result that you like, you set up another experiment in which you vary the frequency of light at constant intensity. Below is the data you collect. Use graphical analysis to determine the workfunction of the metal, in eV, and to estimate Planck’s constant."
   ]
  },
  {
   "cell_type": "markdown",
   "metadata": {},
   "source": [
    "|Light Wavelength (nm)|Electron Kinetic Energy (eV)|\n",
    "|:-:|:-:|\n",
    "|263|0.13|\n",
    "|250|0.33|\n",
    "|234|0.68|\n",
    "|218|1.08|\n",
    "|184|2.13|"
   ]
  },
  {
   "cell_type": "code",
   "execution_count": 22,
   "metadata": {},
   "outputs": [
    {
     "data": {
      "image/png": "[encoded data removed]",
      "text/plain": [
       "<Figure size 432x288 with 1 Axes>"
      ]
     },
     "metadata": {
      "needs_background": "light"
     },
     "output_type": "display_data"
    },
    {
     "name": "stdout",
     "output_type": "stream",
     "text": [
      "Workfunction = 4.597804 eV\n",
      "Slope (Planck's constant) = 4.123957E-15 eV*s.\n"
     ]
    }
   ],
   "source": [
    "import numpy as np\n",
    "import matplotlib.pyplot as plt\n",
    "\n",
    "c = 3e17                                 #nm/s speed of light\n",
    "f = [c/263,c/250,c/234,c/218,c/184]      #s^-1\n",
    "E = [0.13,0.33,0.68,1.08,2.13]           #eV\n",
    "\n",
    "h, W = np.polyfit(f,E, 1)     #assign slope & y_intercept of linear fitting to h & W\n",
    "E_fit = np.poly1d([0,h,W])    #use poly1d to create a continuous line from discrete data points\n",
    "\n",
    "plt.plot(f,E,'.')             \n",
    "plt.plot(f,E_fit(f),'-')\n",
    "plt.xlabel('Frequency (s$^{-1}$)')\n",
    "plt.ylabel('Kinetic Energy (eV)')\n",
    "plt.title('KE = h$\\\\nu$-W')\n",
    "plt.show()\n",
    "\n",
    "print ('Workfunction = %f eV'%(-W))\n",
    "print (\"Slope (Planck\\'s constant) = %E eV*s.\"%(h))"
   ]
  },
  {
   "cell_type": "markdown",
   "metadata": {},
   "source": [
    "### 6. What is the metal? $Hint:$ It is a coinage metal."
   ]
  },
  {
   "cell_type": "markdown",
   "metadata": {},
   "source": [
    "According to http://dx.doi.org/10.1103/PhysRevB.46.7157, copper metal has an experimental work function of ~4.59eV."
   ]
  },
  {
   "cell_type": "markdown",
   "metadata": {},
   "source": [
    "## Diffraction.\n",
    "Diffraction is the scattering of particles off of a crystal, and is today an essential means of probing the structure of matter. Modern diffraction is performed using bright light and particle sources of various types."
   ]
  },
  {
   "cell_type": "markdown",
   "metadata": {},
   "source": [
    "### 7. The spacing between atoms in a Ag crystal is approximately 2.9 Å, a distance that can be measured by scattering photons of a comparable wavelength off the crystal. What is the energy (in eV) of a photon of wavelength 2.9 Å? What part of the electromagnetic spectrum does this correspond to?"
   ]
  },
  {
   "cell_type": "markdown",
   "metadata": {},
   "source": [
    "$E=\\frac{h_{c}}{\\lambda}$"
   ]
  },
  {
   "cell_type": "code",
   "execution_count": 15,
   "metadata": {},
   "outputs": [
    {
     "name": "stdout",
     "output_type": "stream",
     "text": [
      "Energy of a photon of wave length 0.290000 nm is 4275.172414 eV\n"
     ]
    }
   ],
   "source": [
    "hc = 1239.8          # eV*nm, Plank constant for E in eV calculation\n",
    "wavelength = 0.29    # nm\n",
    "E = hc/wavelength    # eV\n",
    "print('Energy of a photon of wave length %f nm is %f eV'%(wavelength,E))"
   ]
  },
  {
   "cell_type": "markdown",
   "metadata": {},
   "source": [
    "According to the electromagnetic spectrum, it corresponds to X-rays. Specifically, the soft X-rays. "
   ]
  },
  {
   "cell_type": "markdown",
   "metadata": {},
   "source": [
    "### 8. Suppose you have a device that produces these photons at a power of 1 μW. How many photons/s does this correspond to?"
   ]
  },
  {
   "cell_type": "code",
   "execution_count": 16,
   "metadata": {},
   "outputs": [
    {
     "name": "stdout",
     "output_type": "stream",
     "text": [
      "This device correspond to the production of 1.459940E+09 photons per second.\n"
     ]
    }
   ],
   "source": [
    "E2 = E*1.60218E-19  # Joule\n",
    "P = 1E-6            # W\n",
    "n = P/E2            # Photons per second = total power/power for a single photon\n",
    "print('This device correspond to the production of %E photons per second.'%n)"
   ]
  },
  {
   "cell_type": "markdown",
   "metadata": {},
   "source": [
    "### 9. The Ag spacing can also be measured by scattering $electrons$ off a crystal. To what speed (in m/s) would an electron need to be accelerated to have the necessary de Broglie wavelength? What fraction of the speed of light is this?"
   ]
  },
  {
   "cell_type": "markdown",
   "metadata": {},
   "source": [
    "$\\lambda=\\frac{h}{p}=\\frac{h}{mv}$"
   ]
  },
  {
   "cell_type": "code",
   "execution_count": 20,
   "metadata": {},
   "outputs": [
    {
     "name": "stdout",
     "output_type": "stream",
     "text": [
      "Electron need to be accelerated to 2.508345E+06 m/s to have the necessary de Broglie wavelength.\n",
      "The fraction of the speed to light speed is 0.008367.\n"
     ]
    }
   ],
   "source": [
    "m = 9.109E-31                   # kg\n",
    "h = 6.62607004E-34              # m^2*kg/s\n",
    "c = 299792458                   # m/s\n",
    "v = h/(wavelength*10**(-9)) /m  # m/s\n",
    "frac = v/c\n",
    "print('Electron need to be accelerated to %E m/s to have the necessary de Broglie wavelength.'%v)\n",
    "print('The fraction of the speed to light speed is %f.'%frac)"
   ]
  },
  {
   "cell_type": "markdown",
   "metadata": {},
   "source": [
    "## The Bohr atom. \n",
    "Bohr developed the first successful model of the energy spectrum of a hydrogen atom by postulating that electrons can only exist in certain fixed energy “orbits” indexed by the quantum number $n$. (Recall that the equations describing the Bohr atom are in Table 4 of the course outline.)"
   ]
  },
  {
   "cell_type": "markdown",
   "metadata": {},
   "source": [
    "### 10. Calculate the energies of an electron in the $n$ = 1 and $n$ = 2 orbits, in eV."
   ]
  },
  {
   "cell_type": "markdown",
   "metadata": {},
   "source": [
    "$E=-\\frac{Zk_{e}e^2}{2r_{n}}=-\\frac{Z^2(k_{e}e^2)^2m_{e}}{2\\hbar^2n^2}\\approx\\frac{-13.6Z^2}{n^2}(eV)$\n",
    "\n",
    "For hydrogen atom, Z=1. For hydrogen-like ion, Z>1"
   ]
  },
  {
   "cell_type": "code",
   "execution_count": 21,
   "metadata": {},
   "outputs": [
    {
     "name": "stdout",
     "output_type": "stream",
     "text": [
      "The energy for an electron in the n=1 orbit is -13.600000eV, for n=2 orbits is -3.400000eV.\n"
     ]
    }
   ],
   "source": [
    "E1 = -13.6*1**2/(1**2)  # eV\n",
    "E2 = -13.6*1**2/(2**2)  # eV\n",
    "print('The energy for an electron in the n=1 orbit is %feV, for n=2 orbits is %feV.'%(E1,E2))"
   ]
  },
  {
   "cell_type": "markdown",
   "metadata": {},
   "source": [
    "### 11. Would light need to be absorbed or emitted to cause an electron to jump from the $n$ = 1 to the $n$ = 2 orbit? What wavelength of light does this correspond to?"
   ]
  },
  {
   "cell_type": "code",
   "execution_count": 24,
   "metadata": {},
   "outputs": [
    {
     "name": "stdout",
     "output_type": "stream",
     "text": [
      "Light need to be absorbed to provide energy for electrons jumping to higher orbits.\n",
      "The least wavelength required is 121.549020nm.\n"
     ]
    }
   ],
   "source": [
    "hc = 1239.8          # eV*nm, Plank constant for E in eV calculation\n",
    "EL = E2-E1           # eV\n",
    "wavelength2 = hc/EL  # nm\n",
    "print('Light need to be absorbed to provide energy for electrons jumping to higher orbits.')\n",
    "print('The least wavelength required is %fnm.'%wavelength2)"
   ]
  },
  {
   "cell_type": "markdown",
   "metadata": {},
   "source": [
    "### 12. What is the circumference of the $n$ = 2 orbit? What is the de Broglie wavelength of an electron in the $n$ = 2 orbit? How do these compare?"
   ]
  },
  {
   "cell_type": "code",
   "execution_count": 25,
   "metadata": {},
   "outputs": [
    {
     "name": "stdout",
     "output_type": "stream",
     "text": [
      "The circumference of the n=2 orbit is 1.329522E-09m.\n"
     ]
    }
   ],
   "source": [
    "import numpy as np\n",
    "a0 = 5.29E-11  # Bohr radius: equals to the smallest radius of the orbits, which is the n=1 orbit. Unit: m.\n",
    "r = a0*2**2    # m\n",
    "l = np.pi*2*r  # circumference\n",
    "print('The circumference of the n=2 orbit is %Em.'%l)"
   ]
  },
  {
   "cell_type": "code",
   "execution_count": 26,
   "metadata": {},
   "outputs": [
    {
     "name": "stdout",
     "output_type": "stream",
     "text": [
      "The de Broglie wavelength for an electron in n=2 orbit is 6.650110E-10m.\n"
     ]
    }
   ],
   "source": [
    "m = 9.109E-31  # kg\n",
    "h = 6.62607004E-34  # m^2*kg/s\n",
    "hbar = h/(2*np.pi)  # m^2*kg/s, reduced planck constant\n",
    "k0 = 2.30708E-28    # let k0 = exp(2)/(4*pi*epsilon zero), found in Table 1 of the course outline.\n",
    "p0 = k0*m/hbar*1/1  # kg*m/s, omentum constant for Bohr equations\n",
    "p2 = p0/2           # momentum for n=2 orbit\n",
    "wavelength3 = h/p2  # de Broglie wavelength for an electron in n=2 orbit\n",
    "print('The de Broglie wavelength for an electron in n=2 orbit is %Em.'%wavelength3)"
   ]
  },
  {
   "cell_type": "markdown",
   "metadata": {},
   "source": [
    "Relationship: Circumference = 2$\\cdot$de Broglie wavelength."
   ]
  },
  {
   "cell_type": "code",
   "execution_count": null,
   "metadata": {},
   "outputs": [],
   "source": []
  }
 ],
 "metadata": {
  "anaconda-cloud": {},
  "kernelspec": {
   "display_name": "Python 3",
   "language": "python",
   "name": "python3"
  },
  "language_info": {
   "codemirror_mode": {
    "name": "ipython",
    "version": 3
   },
   "file_extension": ".py",
   "mimetype": "text/x-python",
   "name": "python",
   "nbconvert_exporter": "python",
   "pygments_lexer": "ipython3",
   "version": "3.7.1"
  }
 },
 "nbformat": 4,
 "nbformat_minor": 1
}
