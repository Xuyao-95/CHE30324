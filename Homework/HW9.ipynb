{
 "cells": [
  {
   "cell_type": "markdown",
   "metadata": {},
   "source": [
    "# Chem 30324, Spring 2019, Homework 9\n"
   ]
  },
  {
   "cell_type": "markdown",
   "metadata": {},
   "source": [
    "# Due April 15, 2019\n"
   ]
  },
  {
   "cell_type": "markdown",
   "metadata": {},
   "source": [
    "## The two-state system.\n",
    "### Consider a closed system containing $N$ objects, each of which can be in one of two energy states, of energy either 0 or $\\varepsilon$. The total internal energy $U$ of the box is the sum of the energies of the individual objects."
   ]
  },
  {
   "cell_type": "markdown",
   "metadata": {},
   "source": [
    "![Boltzmann](imgs/Boltzmann.png)"
   ]
  },
  {
   "cell_type": "markdown",
   "metadata": {},
   "source": [
    "### 1. Write down all the possible microstates for a box in which $N = 4$ and the internal energy $U = 2\\varepsilon$."
   ]
  },
  {
   "cell_type": "markdown",
   "metadata": {},
   "source": [
    "### 2. What does the postulate of *equal a priori probabilities* say about the relative likelihood of occurance of any one of these microstates?"
   ]
  },
  {
   "cell_type": "markdown",
   "metadata": {},
   "source": [
    "### 3. What is the entropy of the box? (Thank you, Ludwig Boltzmann.)"
   ]
  },
  {
   "cell_type": "markdown",
   "metadata": {},
   "source": [
    "### 4. Suppose two identical such boxes are brought into thermal contact and allowed to come to equilibrium. Calculate the change in internal energy $\\Delta U$ and in entropy $\\Delta S$ associated with this process."
   ]
  },
  {
   "cell_type": "markdown",
   "metadata": {},
   "source": [
    "## The canonical ensemble.\n",
    "### The energy spectrum of some molecule is described by the diagram below."
   ]
  },
  {
   "cell_type": "markdown",
   "metadata": {},
   "source": [
    "![Energy States](imgs/EnergyStates.png)"
   ]
  },
  {
   "cell_type": "markdown",
   "metadata": {},
   "source": [
    "### 5. Write the partition function $q$ for the molecular at thermal equilibrium at a temperature $\\beta = 1/k_BT$."
   ]
  },
  {
   "cell_type": "markdown",
   "metadata": {},
   "source": [
    "### 6. Plot the probability for the molecule to be in each of the three energy states vs. temperature. Be sure to indicate the probabilities in the limits of $T\\rightarrow 0$ and $T \\rightarrow \\infty$. Assume $\\varepsilon/k_B = 300$ K."
   ]
  },
  {
   "cell_type": "markdown",
   "metadata": {},
   "source": [
    "### 7. Derive an expression for the energy $U$ per molecule by summing over the possible microstates weighted by their probabilities. Plot the average energy vs. temperature."
   ]
  },
  {
   "cell_type": "markdown",
   "metadata": {},
   "source": [
    "### 8. Derive an expression for the energy $U$ per molecule by taking the appropriate derivative of the partition function from problem 5 (*Hint:* it is easier to work with the expressions in term of β than in $T$.) Does your result agree with that from problem 7?"
   ]
  },
  {
   "cell_type": "markdown",
   "metadata": {},
   "source": [
    "### 9. Derive an expression for the Helmholtz energy $A$ per molecule from the partition function. Plot $A$ vs. temperature, assuming $\\varepsilon/k_B = 300$ K."
   ]
  },
  {
   "cell_type": "markdown",
   "metadata": {},
   "source": [
    "### 10. Derive an expression for the entropy $S$ per molecules and plot vs. temperature, again assuming $\\varepsilon/k_B = 300$ K."
   ]
  },
  {
   "cell_type": "markdown",
   "metadata": {},
   "source": [
    "### 11. In class we took the First Law as a postulate and demonstrated the Second Law. Look at your results for Problems 6 and 10. Can you use them to rationalize the Third Law? Explain your answer."
   ]
  },
  {
   "cell_type": "markdown",
   "metadata": {
    "collapsed": true
   },
   "source": [
    "## Thermodynamics from scratch.\n",
    "### Let’s calculate the thermodynamic properties of an ideal gas of CO molecules at 1 bar pressure. CO has a rotational constant B = 1.931 cm$^{-1}$ and vibrational frequency ν = 2156.6 cm$^{-1}$ . Suppose you have a 20 dm$^3$ cubic bottle containing 1 mole of CO gas that you can consider to behave ideally."
   ]
  },
  {
   "cell_type": "markdown",
   "metadata": {},
   "source": [
    "### 12. The characteristic temperature $\\Theta$ of a particular degree of freedom is the characteristic quantum of energy for the degree of freedom divided by $k_B$ . Calculate the characteristic translational, rotational, and vibrational temperatures of CO."
   ]
  },
  {
   "cell_type": "markdown",
   "metadata": {},
   "source": [
    "### 13. Calculate the *translational partition function* of a CO molecule in the bottle at 298 K. What is the unit of the partition function?"
   ]
  },
  {
   "cell_type": "markdown",
   "metadata": {},
   "source": [
    "### 14. Plot the *rotational and vibrational partition functions* of a CO molecule in the bottle from T = 200 to 2000 K (assume the CO remains a gas over the whole range). *Hint:* Use your answer to Problem 12 to simplify calculating the rotational partition function."
   ]
  },
  {
   "cell_type": "markdown",
   "metadata": {},
   "source": [
    "### 15. Plot the *total translational, rotational, and vibrational energies* of CO in the bottle from T = 200 to 2000 K (assume the CO remains a gas over the whole range). Which (if any) of the three types of motions dominate the total energy?"
   ]
  },
  {
   "cell_type": "markdown",
   "metadata": {},
   "source": [
    "### 16. Plot the *total translational, rotational, and vibrational constant volume molar heat capacities* of CO in the bottle from T = 200 to 2000 K. Which (if any) of the three types of motions dominate the heat capacity?"
   ]
  },
  {
   "cell_type": "markdown",
   "metadata": {},
   "source": [
    "### 17. Plot the *total translational, rotational, and vibrational Helmholtz energies* of CO in the bottle from T = 200 to 2000 K. Which (if any) of the three types of motions dominate the Helmholtz energy?"
   ]
  },
  {
   "cell_type": "markdown",
   "metadata": {},
   "source": [
    "### 18. Use your formulas to calculate $\\Delta$P, $\\Delta$U, $\\Delta$A, and $\\Delta$S associated with isothermally expanding the gas from 20 dm$^3$ to 40 dm$^3$."
   ]
  }
 ],
 "metadata": {
  "anaconda-cloud": {},
  "kernelspec": {
   "display_name": "Python 3",
   "language": "python",
   "name": "python3"
  },
  "language_info": {
   "codemirror_mode": {
    "name": "ipython",
    "version": 3
   },
   "file_extension": ".py",
   "mimetype": "text/x-python",
   "name": "python",
   "nbconvert_exporter": "python",
   "pygments_lexer": "ipython3",
   "version": "3.7.1"
  }
 },
 "nbformat": 4,
 "nbformat_minor": 1
}
