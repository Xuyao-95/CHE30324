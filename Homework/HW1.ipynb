{
  "nbformat": 4,
  "nbformat_minor": 0,
  "metadata": {
    "anaconda-cloud": {},
    "celltoolbar": "Raw Cell Format",
    "kernelspec": {
      "display_name": "Python 3",
      "language": "python",
      "name": "python3"
    },
    "language_info": {
      "codemirror_mode": {
        "name": "ipython",
        "version": 3
      },
      "file_extension": ".py",
      "mimetype": "text/x-python",
      "name": "python",
      "nbconvert_exporter": "python",
      "pygments_lexer": "ipython3",
      "version": "3.6.7"
    },
    "colab": {
      "name": "HW1.ipynb",
      "provenance": []
    }
  },
  "cells": [
    {
      "cell_type": "markdown",
      "metadata": {
        "id": "xkn0mGY3CXXA",
        "colab_type": "text"
      },
      "source": [
        "# Chem 30324, Spring 2020, Homework 1 "
      ]
    },
    {
      "cell_type": "markdown",
      "metadata": {
        "id": "0cl-rK-HCXXC",
        "colab_type": "text"
      },
      "source": [
        "# Due on January 22, 2020"
      ]
    },
    {
      "cell_type": "markdown",
      "metadata": {
        "id": "sQAPRxVoCXXC",
        "colab_type": "text"
      },
      "source": [
        "## Problem 1: Discrete, probably"
      ]
    },
    {
      "cell_type": "markdown",
      "metadata": {
        "id": "19WnICkbCXXD",
        "colab_type": "text"
      },
      "source": [
        "*In five card study, a poker player is dealt five cards from a standard deck of 52 cards.*"
      ]
    },
    {
      "cell_type": "markdown",
      "metadata": {
        "id": "woT1qvpRCXXD",
        "colab_type": "text"
      },
      "source": [
        "### 1. How many different 5-card hands are there?  (Remember, in poker the order in which the cards are received does *not* matter.)"
      ]
    },
    {
      "cell_type": "markdown",
      "metadata": {
        "id": "HdoAMFLwCXXE",
        "colab_type": "text"
      },
      "source": [
        "### 2. What is the probability of being dealt four of a kind (a card of the same rank from each suit)?"
      ]
    },
    {
      "cell_type": "markdown",
      "metadata": {
        "id": "CFF7ZwXTCXXF",
        "colab_type": "text"
      },
      "source": [
        "### 3. What is the probability of being dealt a flush (five cards of the same suit)?"
      ]
    },
    {
      "cell_type": "markdown",
      "metadata": {
        "id": "aBAIPhISCXXF",
        "colab_type": "text"
      },
      "source": [
        "## Problem 2: Continuous, probably"
      ]
    },
    {
      "cell_type": "markdown",
      "metadata": {
        "id": "imd-jbY1CXXG",
        "colab_type": "text"
      },
      "source": [
        "The probability distribution function for a random variable $x$ is given by $P(x)=x e^{-2x}, 0\\le x < \\infty$."
      ]
    },
    {
      "cell_type": "markdown",
      "metadata": {
        "id": "hvQgzUzQCXXG",
        "colab_type": "text"
      },
      "source": [
        "### 1. Is $P(x)$ normalized?  If not, normalize it.  Plot the normalized $P(x)$."
      ]
    },
    {
      "cell_type": "markdown",
      "metadata": {
        "id": "u1vkxXVFCXXH",
        "colab_type": "text"
      },
      "source": [
        "### 2. What is the most probable value of $x$?"
      ]
    },
    {
      "cell_type": "markdown",
      "metadata": {
        "id": "n88PQvomCXXH",
        "colab_type": "text"
      },
      "source": [
        "### 3. What is the expectation value of $x$?"
      ]
    },
    {
      "cell_type": "markdown",
      "metadata": {
        "id": "IHfU7A37CXXI",
        "colab_type": "text"
      },
      "source": [
        "### 4. What is the variance of $x$?"
      ]
    },
    {
      "cell_type": "markdown",
      "metadata": {
        "id": "3LujRiVqCXXI",
        "colab_type": "text"
      },
      "source": [
        "## Problem 3: One rough night"
      ]
    },
    {
      "cell_type": "markdown",
      "metadata": {
        "id": "_b_1KcoQCXXJ",
        "colab_type": "text"
      },
      "source": [
        "It's late on a Friday night and people are stumbling up Notre Dame Ave. to their dorms. You observe one particularly impaired individual who is taking steps of equal length 1m to the north or south (i.e., in one dimension), with equal probability."
      ]
    },
    {
      "cell_type": "markdown",
      "metadata": {
        "id": "zNOTJ9p3CXXJ",
        "colab_type": "text"
      },
      "source": [
        "### 1. What is the furthest distance the person could travel after 20 steps?"
      ]
    },
    {
      "cell_type": "markdown",
      "metadata": {
        "id": "jUhhMqUTCXXK",
        "colab_type": "text"
      },
      "source": [
        "### 2. What is the probability that the person won't have traveled any net distance at all after 20 steps?"
      ]
    },
    {
      "cell_type": "markdown",
      "metadata": {
        "id": "FpA5IkuxCXXK",
        "colab_type": "text"
      },
      "source": [
        "### 3. What is the probability that the person has traveled half the maximum distance after 20 steps?"
      ]
    },
    {
      "cell_type": "markdown",
      "metadata": {
        "id": "8slmJCVTCXXL",
        "colab_type": "text"
      },
      "source": [
        "### 4. Plot the probability of traveling a given distance vs distance. Does the probability distribution look familiar?  You'll see it again when we talk about diffusion."
      ]
    },
    {
      "cell_type": "markdown",
      "metadata": {
        "id": "-GTpf883CXXL",
        "colab_type": "text"
      },
      "source": [
        "## Problem 4: Now this is what I call equilibrium"
      ]
    },
    {
      "cell_type": "markdown",
      "metadata": {
        "id": "aHs1_8nRCXXM",
        "colab_type": "text"
      },
      "source": [
        "The Boltzmann distribution tells us that, at thermal equilibrium, the probability of a particle having an energy $E$ is proportional to $\\exp(-E/k_\\text{B}T)$, where $k_\\text{B}$ is the Boltzmann constant.  Suppose a bunch of gas particles of mass $m$ are in thermal equilibrium at temperature $T$ and are traveling back and forth in one dimension with various velocities $v$ and kinetic energies $K=mv^2/2$."
      ]
    },
    {
      "cell_type": "markdown",
      "metadata": {
        "id": "9Vfds2xdCXXM",
        "colab_type": "text"
      },
      "source": [
        "### 1. What is the expectation value of the velocity $v$ of a particle?"
      ]
    },
    {
      "cell_type": "markdown",
      "metadata": {
        "id": "balOZ2qwCXXN",
        "colab_type": "text"
      },
      "source": [
        "### 2. What is the expectation value of the kinetic energy $K$ of a particle? How does your answer depend on the particle mass? On temperature?"
      ]
    }
  ]
}