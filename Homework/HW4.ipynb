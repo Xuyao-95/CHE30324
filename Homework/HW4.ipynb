{
 "cells": [
  {
   "cell_type": "markdown",
   "metadata": {},
   "source": [
    "# Chem 30324, Spring 2018, Homework 4\n",
    "\n",
    "# Due February 18, 2019"
   ]
  },
  {
   "cell_type": "markdown",
   "metadata": {},
   "source": [
    "### In a “1-dimensional hydrogen atom”, an electron is confined to the positive x axis and attracted to a proton at the origin. The potential felt by the electron can be written as"
   ]
  },
  {
   "cell_type": "markdown",
   "metadata": {},
   "source": [
    "$$V(x) =\n",
    "  \\begin{cases}\n",
    "    -C\\frac{1}{x}  & \\quad      \\text{if x} > \\text{0}\\\\\n",
    "    \\infty         & \\quad      \\text{if x} \\le \\text{0}\\\\\n",
    "  \\end{cases}$$"
   ]
  },
  {
   "cell_type": "markdown",
   "metadata": {},
   "source": [
    "### where $c = \\frac{e^2}{4\\pi\\epsilon_0} = \\frac{\\hbar^2}{m_ea_0}$ is a bunch of constants with units energy times distance. In particular, $m_e$ is the electron mass and $a_0$ is the bohr radius, a convenient unit of length equal to 0.529 Å. It’s easiest to solve the problems below using the second set of constants. Further, the following equations are often of use in solving problems related to this system:"
   ]
  },
  {
   "cell_type": "markdown",
   "metadata": {},
   "source": [
    "$$\\int_0^\\infty x^n\\mathrm{e}^{-ax}\\,\\mathrm{d}x = \\frac{n!}{a^{n+1}},\\quad \\frac{d}{dx}x\\mathrm{e}^{-ax} = \\mathrm{e}^{-ax}(1-ax),\\quad \\frac{d^2}{dx^2}x\\mathrm{e}^{-ax} = a\\mathrm{e}^{-ax}(ax-2)$$"
   ]
  },
  {
   "cell_type": "markdown",
   "metadata": {},
   "source": [
    "### 1. Write down the time-independent Schrödinger equation for the 1-D H atom. Remember to include the domain of the equation."
   ]
  },
  {
   "cell_type": "markdown",
   "metadata": {},
   "source": [
    "### 2. Would $\\phi(x) = e^{ikx}$ be an acceptable wavefunction for this system? Why or why not?"
   ]
  },
  {
   "cell_type": "markdown",
   "metadata": {},
   "source": [
    "### 3. Consider the candidate wavefunction $\\psi_1(x) = \\frac{x}{a_0}e^{-x/a_0}$. Plot $V(x)$ and $\\psi_1(x)$. Be sure to label axes appropriately. (*Hint*: it is convenient to work in units of $a_0$. That is, make your plots against $x /a_0$ .)"
   ]
  },
  {
   "cell_type": "markdown",
   "metadata": {},
   "source": [
    "### 4. Is $\\psi_1(x)$ normalized? If not, construct the normalized $\\tilde{\\psi}_{1}(x)$ . It is ok to express you answer in terms of fundamental constants."
   ]
  },
  {
   "cell_type": "markdown",
   "metadata": {},
   "source": [
    "### 5. What is the most probable distance of the electron from the proton, in units of $a_0$?"
   ]
  },
  {
   "cell_type": "markdown",
   "metadata": {},
   "source": [
    "### 6. What is the probability of finding the electron further than $a_0$ from the proton?"
   ]
  },
  {
   "cell_type": "markdown",
   "metadata": {},
   "source": [
    "### 7. If you measure the linear momentum of many electrons, all with the same wavefunction $\\tilde{\\psi}_{1}(x)$ , will you get the same answer every time? What will you get on average? It is ok to express you answer in terms of fundamental constants."
   ]
  },
  {
   "cell_type": "markdown",
   "metadata": {},
   "source": [
    "### 8. If you measure the total energies of many electrons, all with the same wavefunction $\\tilde{\\psi}_{1}(x)$, will you get the same answer every time? What will you get on average? (*Hint*: It will help to express $V(x)$ in terms of $a_0$ , $\\hbar$, and $m_e$ .)"
   ]
  },
  {
   "cell_type": "markdown",
   "metadata": {},
   "source": [
    "### 9. The normalized wavefunction $\\tilde{\\psi}_{2}(x) = \\frac{x}{\\sqrt{2}a_0^{3/2}}(1-\\frac{x}{2a_0})e^{-x/2a_0}$ is an eigenfunction of the one-dimensional H atom Schrödinger equation with eigenvalue $E_{2} = - \\frac{\\hbar^2}{8m_ea_0^2}$ . Plot $\\tilde{\\psi}_{2}(x)$ . Are $\\tilde{\\psi}_{1}(x)$ and $\\tilde{\\psi}_{2}(x)$ orthogonal? (Be sure to justify your answer!)"
   ]
  },
  {
   "cell_type": "markdown",
   "metadata": {},
   "source": [
    "### 10. The uncertainties in the positions of an electron described by $\\tilde{\\psi}_{1}(x)$ and $\\tilde{\\psi}_{2}(x)$ can be shown to be $2^{1/2} a_{0}$ and $6^{1/2} a_{0}$, respectively. Contrast the uncertainties in their linear speeds."
   ]
  },
  {
   "cell_type": "markdown",
   "metadata": {},
   "source": [
    "### EXTRA CREDIT. Suppose an electron is in a superposition state described by $\\xi(x) = \\frac{1}{\\sqrt{3}}(\\tilde{\\psi}_{1}(x) + \\sqrt{2}\\tilde{\\psi}_{2}(x))$. If  you measure the total energies of many electrons, all with the same wavefunction $\\xi(x)$, will you get the same answer every time? What will you get on average? It is ok to express you answer in terms of fundamental constants."
   ]
  }
 ],
 "metadata": {
  "anaconda-cloud": {},
  "kernelspec": {
   "display_name": "Python 2",
   "language": "python",
   "name": "python2"
  },
  "language_info": {
   "codemirror_mode": {
    "name": "ipython",
    "version": 2
   },
   "file_extension": ".py",
   "mimetype": "text/x-python",
   "name": "python",
   "nbconvert_exporter": "python",
   "pygments_lexer": "ipython2",
   "version": "2.7.15"
  }
 },
 "nbformat": 4,
 "nbformat_minor": 1
}
