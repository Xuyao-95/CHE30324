{
 "cells": [
  {
   "cell_type": "markdown",
   "metadata": {},
   "source": [
    "# Chem 30324, Spring 2018, Homework 1"
   ]
  },
  {
   "cell_type": "markdown",
   "metadata": {},
   "source": [
    "## Problem 1: Discrete, probably"
   ]
  },
  {
   "cell_type": "markdown",
   "metadata": {},
   "source": [
    "In five card stud, a poker player is dealt five cards from a standard deck of 52 cards."
   ]
  },
  {
   "cell_type": "markdown",
   "metadata": {},
   "source": [
    "### 1. How many different 5-card hands are there?  (Remember, in poker the order in which the cards are received does *not* matter.)"
   ]
  },
  {
   "cell_type": "code",
   "execution_count": 63,
   "metadata": {
    "collapsed": true
   },
   "outputs": [],
   "source": [
    "def binomial(n,k):\n",
    "   \"\"\"Compute n factorial by a direct multiplicative method.\"\"\"\n",
    "   if k > n-k: k = n-k  # Use symmetry of Pascal's triangle\n",
    "   accum = 1\n",
    "   for i in range(1,k+1):\n",
    "      accum *= (n - (k - i))\n",
    "      accum /= i\n",
    "   return accum"
   ]
  },
  {
   "cell_type": "code",
   "execution_count": 64,
   "metadata": {
    "collapsed": true
   },
   "outputs": [],
   "source": [
    "hands = binomial(52,5)"
   ]
  },
  {
   "cell_type": "code",
   "execution_count": 65,
   "metadata": {},
   "outputs": [
    {
     "name": "stdout",
     "output_type": "stream",
     "text": [
      "Number of hands =  2598960\n"
     ]
    }
   ],
   "source": [
    "print('Number of hands = {0:8.0f}'.format(hands))"
   ]
  },
  {
   "cell_type": "markdown",
   "metadata": {},
   "source": [
    "### 2. What is the probability of being dealt four of a kind (a card of the same rank from each suit)?"
   ]
  },
  {
   "cell_type": "code",
   "execution_count": 66,
   "metadata": {
    "collapsed": true
   },
   "outputs": [],
   "source": [
    "fourofakind = 13. * 48. # number of 4-of-a-kinds times fifth card"
   ]
  },
  {
   "cell_type": "code",
   "execution_count": 67,
   "metadata": {},
   "outputs": [
    {
     "name": "stdout",
     "output_type": "stream",
     "text": [
      "Probability of 4-of-a-kind = 0.00024010\n"
     ]
    }
   ],
   "source": [
    "print('Probability of 4-of-a-kind = {0:9.8f}'.format(fourofakind/hands))"
   ]
  },
  {
   "cell_type": "markdown",
   "metadata": {},
   "source": [
    "### 3. What is the probability of being dealt a flush (five cards of the same suit)?"
   ]
  },
  {
   "cell_type": "code",
   "execution_count": 68,
   "metadata": {
    "collapsed": true
   },
   "outputs": [],
   "source": [
    "flush = 4. * binomial(13,5)  # 4 suits times 5 cards from the suit"
   ]
  },
  {
   "cell_type": "code",
   "execution_count": 69,
   "metadata": {},
   "outputs": [
    {
     "name": "stdout",
     "output_type": "stream",
     "text": [
      "Probability of a flush = 0.00198079\n"
     ]
    }
   ],
   "source": [
    "print('Probability of a flush = {0:9.8f}'.format(flush/hands))"
   ]
  },
  {
   "cell_type": "markdown",
   "metadata": {},
   "source": [
    "## Problem 2: Continuous, probably"
   ]
  },
  {
   "cell_type": "markdown",
   "metadata": {},
   "source": [
    "The probability distribution function for a random variable $x$ is given by $P(x)=x e^{-2x}, 0\\le x < \\infty$."
   ]
  },
  {
   "cell_type": "markdown",
   "metadata": {},
   "source": [
    "### 1. Is $P(x)$ normalized?  If not, normalize it.  Plot the normalized $P(x)$."
   ]
  },
  {
   "cell_type": "code",
   "execution_count": 70,
   "metadata": {},
   "outputs": [
    {
     "name": "stdout",
     "output_type": "stream",
     "text": [
      "P is not normalized, intergral =    0.25000\n"
     ]
    },
    {
     "data": {
      "text/plain": [
       "<matplotlib.text.Text at 0x10f537fd0>"
      ]
     },
     "execution_count": 70,
     "metadata": {},
     "output_type": "execute_result"
    },
    {
     "data": {
      "image/png": "[encoded data removed]",
      "text/plain": [
       "<matplotlib.figure.Figure at 0x10f463190>"
      ]
     },
     "metadata": {},
     "output_type": "display_data"
    }
   ],
   "source": [
    "%matplotlib inline  \n",
    "import numpy as np   # imports numerial python\n",
    "from scipy.integrate import quad    # imports quadrature\n",
    "import matplotlib.pyplot as plt     # imports plotting functions\n",
    "\n",
    "def P(x):\n",
    "    return x*np.exp(-2.*x)\n",
    "\n",
    "N = quad(P,0,np.inf)\n",
    "\n",
    "if (N[0] != 1.0):\n",
    "    print(\"P is not normalized, intergral = {0:10.5f}\".format(N[0]))\n",
    "   \n",
    "def Ptilde(x):\n",
    "    return x*np.exp(-2.*x)/N[0]\n",
    "    \n",
    "x=np.linspace(0,5,50)\n",
    "plt.plot(x,Ptilde(x))\n",
    "plt.title(\"Normalized P(x)\")"
   ]
  },
  {
   "cell_type": "markdown",
   "metadata": {},
   "source": [
    "### 2. What is the most probable value of $x$?"
   ]
  },
  {
   "cell_type": "code",
   "execution_count": 71,
   "metadata": {},
   "outputs": [
    {
     "name": "stdout",
     "output_type": "stream",
     "text": [
      "Maximum at x =    0.50000\n"
     ]
    }
   ],
   "source": [
    "from scipy.optimize import minimize\n",
    "x0 = 1\n",
    "\n",
    "def f(x):\n",
    "    return -Ptilde(x)   # flip function over so we can use minimize\n",
    "\n",
    "mostprobable=minimize(f,x0)\n",
    "print(\"Maximum at x = {0:10.5f}\".format(mostprobable.x[0]))"
   ]
  },
  {
   "cell_type": "markdown",
   "metadata": {},
   "source": [
    "### 3. What is the expectation value of $x$?"
   ]
  },
  {
   "cell_type": "code",
   "execution_count": 72,
   "metadata": {},
   "outputs": [
    {
     "name": "stdout",
     "output_type": "stream",
     "text": [
      "Expectation value =    1.00000\n"
     ]
    }
   ],
   "source": [
    "def integrand(x):\n",
    "    return x*Ptilde(x)\n",
    "\n",
    "expectx = quad(integrand,0,np.inf)\n",
    "print(\"Expectation value = {0:10.5f}\".format(expectx[0]))"
   ]
  },
  {
   "cell_type": "markdown",
   "metadata": {},
   "source": [
    "### 4. What is the variance of $x$?"
   ]
  },
  {
   "cell_type": "code",
   "execution_count": 73,
   "metadata": {},
   "outputs": [
    {
     "name": "stdout",
     "output_type": "stream",
     "text": [
      "variance =    0.50000\n"
     ]
    }
   ],
   "source": [
    "def integrand(x):\n",
    "    return x*x*Ptilde(x)\n",
    "\n",
    "expectx2 = quad(integrand,0,np.inf)\n",
    "\n",
    "variance = expectx2[0]-expectx[0]*expectx[0]\n",
    "\n",
    "print(\"variance = {0:10.5f}\".format(variance))"
   ]
  },
  {
   "cell_type": "markdown",
   "metadata": {},
   "source": [
    "## Problem 3: One rough night"
   ]
  },
  {
   "cell_type": "markdown",
   "metadata": {},
   "source": [
    "It's late on a Friday night and people are stumbling up Notre Dame Ave. to their dorms. You observe one particularly impaired individual who is taking steps of equal length \\SI{1}{m} to the north or south (i.e., in one dimension), with equal probability."
   ]
  },
  {
   "cell_type": "markdown",
   "metadata": {},
   "source": [
    "### 1. What is the furthest distance the person could travel after 20 steps?"
   ]
  },
  {
   "cell_type": "markdown",
   "metadata": {},
   "source": [
    "20 m"
   ]
  },
  {
   "cell_type": "markdown",
   "metadata": {},
   "source": [
    "### 2. What is the probability that the person won't have traveled any net distance at all after 20 steps?"
   ]
  },
  {
   "cell_type": "code",
   "execution_count": 19,
   "metadata": {},
   "outputs": [
    {
     "name": "stdout",
     "output_type": "stream",
     "text": [
      "Probability of travling 0 distance = 0.1762\n"
     ]
    }
   ],
   "source": [
    "def paths(N,n): # N is the total number of steps, n is the distance from original point after N steps\n",
    "   k=(N+n)//2 # the number of steps taken to the north\n",
    "   \"\"\" compute binomial(N,k) \"\"\"\n",
    "   if n > N-k: n = N-k  # Use symmetry of Pascal's triangle\n",
    "   accum = 1\n",
    "   for i in range(1,k+1):\n",
    "      accum *= (N - (k - i))\n",
    "      accum /= i\n",
    "   return accum\n",
    "\n",
    "N=20 # the total number of steps\n",
    "N1=paths(N,0)  # the number of all possible paths end at 0 after 20 steps\n",
    "Ntotal=2**N # the total number of possible walks\n",
    "print('Probability of travling 0 distance = {0:1.4f}'.format(N1/Ntotal)) # 20 steps, 0 distance"
   ]
  },
  {
   "cell_type": "markdown",
   "metadata": {},
   "source": [
    "### 3. What is the probability that the person has traveled half the maximum distance after 20 steps?"
   ]
  },
  {
   "cell_type": "code",
   "execution_count": 20,
   "metadata": {},
   "outputs": [
    {
     "name": "stdout",
     "output_type": "stream",
     "text": [
      "Probability of travling half the max distance = 0.0296\n"
     ]
    }
   ],
   "source": [
    "N2=paths(N,N//2)\n",
    "print('Probability of travling half the max distance = {0:1.4f}'.format(N2*2/Ntotal)) # 20 steps, ends at 10m & -10m"
   ]
  },
  {
   "cell_type": "markdown",
   "metadata": {},
   "source": [
    "### 4. Plot the probability of traveling a given distance vs distance. Does the probability distribution look familiar?  You'll see it again when we talk about diffusion."
   ]
  },
  {
   "cell_type": "code",
   "execution_count": 21,
   "metadata": {},
   "outputs": [
    {
     "data": {
      "image/png": "[encoded data removed]",
      "text/plain": [
       "<matplotlib.figure.Figure at 0x7fd9e7b8cf60>"
      ]
     },
     "metadata": {},
     "output_type": "display_data"
    }
   ],
   "source": [
    "p=[]\n",
    "for i in range (-N,N+1,2):\n",
    "    p.append(paths(N,i)/Ntotal)\n",
    "d=[]\n",
    "for i in range (-N,N+1,2):\n",
    "    d.append(i)\n",
    "import matplotlib.pyplot as pl # draw the plot\n",
    "pl.bar(d,p)\n",
    "pl.xlabel('distance(m)')\n",
    "pl.ylabel('probability')\n",
    "pl.title('Random Walk Probablity')\n",
    "pl.show()"
   ]
  },
  {
   "cell_type": "markdown",
   "metadata": {},
   "source": [
    "## Problem 4: Now this is what I call equilibrium"
   ]
  },
  {
   "cell_type": "markdown",
   "metadata": {},
   "source": [
    "The Boltzmann distribution tells us that, at thermal equilibrium, the probability of a particle having an energy $E$ is proportional to $\\exp(-E/k_\\text{B}T)$, where $k_\\text{B}$ is the Boltzmann constant.  Suppose a bunch of gas particles of mass $m$ are in thermal equilibrium at temperature $T$ and are traveling back and forth in one dimension with various velocities $v$ and kinetic energies $K=mv^2/2$."
   ]
  },
  {
   "cell_type": "markdown",
   "metadata": {},
   "source": [
    "### 1. What is the expectation value of the velocity $v$ of a particle?"
   ]
  },
  {
   "cell_type": "code",
   "execution_count": 23,
   "metadata": {},
   "outputs": [
    {
     "name": "stdout",
     "output_type": "stream",
     "text": [
      "    √2⋅√m     \n",
      "──────────────\n",
      "          ____\n",
      "2⋅√π⋅√T⋅╲╱ kB \n"
     ]
    }
   ],
   "source": [
    "from sympy import * # import sympy for symbolic mathematics\n",
    "v = symbols('v')\n",
    "T,kB,m= symbols('T,kB,m',positive=True)\n",
    "a=integrate(exp(-m*v**2/(2*kB*T)),(v,-oo,oo)) # integral\n",
    "pprint(1/a) # normalization coefficient "
   ]
  },
  {
   "cell_type": "code",
   "execution_count": 24,
   "metadata": {},
   "outputs": [
    {
     "name": "stdout",
     "output_type": "stream",
     "text": [
      "0\n"
     ]
    }
   ],
   "source": [
    "pprint(integrate(v*sqrt(m)/sqrt(2*pi*T*kB)*exp(-m*v*v/(2*kB*T)),(v,-oo,oo))) # <v>"
   ]
  },
  {
   "cell_type": "markdown",
   "metadata": {},
   "source": [
    "### 2. What is the expectation value of the kinetic energy $K$ of a particle? How does your answer depend on the particle mass? On temperature?"
   ]
  },
  {
   "cell_type": "code",
   "execution_count": 25,
   "metadata": {},
   "outputs": [
    {
     "name": "stdout",
     "output_type": "stream",
     "text": [
      "0.5⋅T⋅kB\n"
     ]
    }
   ],
   "source": [
    "pprint(integrate(1/2*m*v*v*sqrt(m)/sqrt(2*pi*T*kB)*exp(-m*v*v/(2*kB*T)),(v,-oo,oo))) # <1/2*m*v*v>"
   ]
  },
  {
   "cell_type": "code",
   "execution_count": null,
   "metadata": {
    "collapsed": true
   },
   "outputs": [],
   "source": []
  }
 ],
 "metadata": {
  "anaconda-cloud": {},
  "celltoolbar": "Raw Cell Format",
  "kernelspec": {
   "display_name": "Python 3",
   "language": "python",
   "name": "python3"
  },
  "language_info": {
   "codemirror_mode": {
    "name": "ipython",
    "version": 3
   },
   "file_extension": ".py",
   "mimetype": "text/x-python",
   "name": "python",
   "nbconvert_exporter": "python",
   "pygments_lexer": "ipython3",
   "version": "3.6.3"
  }
 },
 "nbformat": 4,
 "nbformat_minor": 1
}
