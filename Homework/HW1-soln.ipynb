{
 "cells": [
  {
   "cell_type": "markdown",
   "metadata": {
    "colab_type": "text",
    "id": "xkn0mGY3CXXA"
   },
   "source": [
    "# Chem 30324, Spring 2020, Homework 1 "
   ]
  },
  {
   "cell_type": "markdown",
   "metadata": {
    "colab_type": "text",
    "id": "0cl-rK-HCXXC"
   },
   "source": [
    "# Due on January 22, 2020"
   ]
  },
  {
   "cell_type": "markdown",
   "metadata": {
    "colab_type": "text",
    "id": "sQAPRxVoCXXC"
   },
   "source": [
    "## Problem 1: Discrete, probably"
   ]
  },
  {
   "cell_type": "markdown",
   "metadata": {
    "colab_type": "text",
    "id": "19WnICkbCXXD"
   },
   "source": [
    "*In five card study, a poker player is dealt five cards from a standard deck of 52 cards.*"
   ]
  },
  {
   "cell_type": "code",
   "execution_count": 0,
   "metadata": {
    "colab": {},
    "colab_type": "code",
    "id": "Hsel8FsZGZKq"
   },
   "outputs": [],
   "source": [
    "import numpy as np\n",
    "from scipy import linalg          #contains certain operators you may need for class\n",
    "import matplotlib.pyplot as plt   #contains everything you need to create plots\n",
    "import sympy as sy\n",
    "from scipy.integrate import quad"
   ]
  },
  {
   "cell_type": "markdown",
   "metadata": {
    "colab_type": "text",
    "id": "woT1qvpRCXXD"
   },
   "source": [
    "### 1. How many different 5-card hands are there?  (Remember, in poker the order in which the cards are received does *not* matter.)"
   ]
  },
  {
   "cell_type": "code",
   "execution_count": 0,
   "metadata": {
    "colab": {
     "base_uri": "https://localhost:8080/",
     "height": 34
    },
    "colab_type": "code",
    "executionInfo": {
     "elapsed": 972,
     "status": "ok",
     "timestamp": 1579281622598,
     "user": {
      "displayName": "Wei Ge",
      "photoUrl": "",
      "userId": "13623893124469451506"
     },
     "user_tz": 300
    },
    "id": "tswfjTKj6_mr",
    "outputId": "bc0dc6c3-1b44-4dad-e802-a9d429b2bfa7"
   },
   "outputs": [
    {
     "name": "stdout",
     "output_type": "stream",
     "text": [
      "Different 5-card hands =\t 2598960\n"
     ]
    }
   ],
   "source": [
    "import math\n",
    "total=factorial(52)/factorial(52-5)/factorial(5)\n",
    "print('Different 5-card hands =\\t',total) # Pick 5 cards from 52 cards 5C52"
   ]
  },
  {
   "cell_type": "markdown",
   "metadata": {
    "colab_type": "text",
    "id": "HdoAMFLwCXXE"
   },
   "source": [
    "### 2. What is the probability of being dealt four of a kind (a card of the same rank from each suit)?"
   ]
  },
  {
   "cell_type": "code",
   "execution_count": 0,
   "metadata": {
    "colab": {
     "base_uri": "https://localhost:8080/",
     "height": 34
    },
    "colab_type": "code",
    "executionInfo": {
     "elapsed": 856,
     "status": "ok",
     "timestamp": 1579299468221,
     "user": {
      "displayName": "Wei Ge",
      "photoUrl": "",
      "userId": "13623893124469451506"
     },
     "user_tz": 300
    },
    "id": "b2mGFa1u8VzD",
    "outputId": "f99377b0-eb95-4072-8baf-53cebf828157"
   },
   "outputs": [
    {
     "name": "stdout",
     "output_type": "stream",
     "text": [
      "The probability of being dealt four of a kind =\t 0.000240096\n"
     ]
    }
   ],
   "source": [
    "print('The probability of being dealt four of a kind =\\t',round(13*(52-4)/total,9))\n",
    "# First pick a kind (1C13), then one card from the remaining 48 cards (1C48)\n",
    "# round() returns x rounded to n digits from the decimal point"
   ]
  },
  {
   "cell_type": "markdown",
   "metadata": {
    "colab_type": "text",
    "id": "CFF7ZwXTCXXF"
   },
   "source": [
    "### 3. What is the probability of being dealt a flush (five cards of the same suit)?"
   ]
  },
  {
   "cell_type": "code",
   "execution_count": 0,
   "metadata": {
    "colab": {
     "base_uri": "https://localhost:8080/",
     "height": 34
    },
    "colab_type": "code",
    "executionInfo": {
     "elapsed": 875,
     "status": "ok",
     "timestamp": 1579299580351,
     "user": {
      "displayName": "Wei Ge",
      "photoUrl": "",
      "userId": "13623893124469451506"
     },
     "user_tz": 300
    },
    "id": "RAzAn5sp9E_m",
    "outputId": "dcd9f404-1040-4c0c-cbc0-e4eda3e7a3a6"
   },
   "outputs": [
    {
     "name": "stdout",
     "output_type": "stream",
     "text": [
      "The probability of being dealt a flush =\t 0.001980792\n"
     ]
    }
   ],
   "source": [
    "print('The probability of being dealt a flush =\\t',round(4*math.factorial(13)/math.factorial(13-5)/math.factorial(5)/total,9))\n",
    "#4 suites * 5C13 (Pick 5 cards from 13 cards)"
   ]
  },
  {
   "cell_type": "markdown",
   "metadata": {
    "colab_type": "text",
    "id": "aBAIPhISCXXF"
   },
   "source": [
    "## Problem 2: Continuous, probably"
   ]
  },
  {
   "cell_type": "markdown",
   "metadata": {
    "colab_type": "text",
    "id": "imd-jbY1CXXG"
   },
   "source": [
    "The probability distribution function for a random variable $x$ is given by \n",
    "$P(x)=x e^{-2x}, 0\\le x < \\infty$."
   ]
  },
  {
   "cell_type": "markdown",
   "metadata": {
    "colab_type": "text",
    "id": "hvQgzUzQCXXG"
   },
   "source": [
    "### 1. Is $P(x)$ normalized?  If not, normalize it.  Plot the normalized $P(x)$."
   ]
  },
  {
   "cell_type": "code",
   "execution_count": 0,
   "metadata": {
    "colab": {
     "base_uri": "https://localhost:8080/",
     "height": 312
    },
    "colab_type": "code",
    "executionInfo": {
     "elapsed": 465,
     "status": "ok",
     "timestamp": 1579281652094,
     "user": {
      "displayName": "Wei Ge",
      "photoUrl": "",
      "userId": "13623893124469451506"
     },
     "user_tz": 300
    },
    "id": "YoiMAu7d_QSZ",
    "outputId": "21ff09cb-799c-4e5b-e035-cc1d9ecc015d"
   },
   "outputs": [
    {
     "name": "stdout",
     "output_type": "stream",
     "text": [
      "(0.24999999999999986, 4.600476137717771e-10)\n"
     ]
    },
    {
     "data": {
      "image/png": "[encoded data removed]",
      "text/plain": [
       "<Figure size 432x288 with 1 Axes>"
      ]
     },
     "metadata": {
      "tags": []
     },
     "output_type": "display_data"
    }
   ],
   "source": [
    "# First define a function that you want to integrate\n",
    "def integrand(x):\n",
    "    return x*math.exp(-2*x) #Return Probability distribution\n",
    "\n",
    "I = quad(integrand,0,np.inf)\n",
    "print(I)\n",
    "# I has two values, the first value is the estimation of the integration, the second value is the upper bound on the error.\n",
    "# Notice that the upper bound on the error is extremely small, this is a good estimation. \n",
    "\n",
    "X = np.linspace(0,10,1000)\n",
    "Y=[]\n",
    "for i in range(np.size(X)):\n",
    "  x=X[i]\n",
    "  y=integrand(x)/I[0]\n",
    "  Y.append(y)\n",
    "\n",
    "plt.plot(X,Y)\n",
    "plt.xlabel('x');\n",
    "plt.ylabel('Normalized P(x)');\n",
    "plt.title('Normalized P(x)')\n",
    "plt.show()"
   ]
  },
  {
   "cell_type": "markdown",
   "metadata": {
    "colab_type": "text",
    "id": "u1vkxXVFCXXH"
   },
   "source": [
    "### 2. What is the most probable value of $x$?"
   ]
  },
  {
   "cell_type": "code",
   "execution_count": 0,
   "metadata": {
    "colab": {
     "base_uri": "https://localhost:8080/",
     "height": 34
    },
    "colab_type": "code",
    "executionInfo": {
     "elapsed": 472,
     "status": "ok",
     "timestamp": 1579281658439,
     "user": {
      "displayName": "Wei Ge",
      "photoUrl": "",
      "userId": "13623893124469451506"
     },
     "user_tz": 300
    },
    "id": "fNwe2fBRHD7C",
    "outputId": "ad7af1b1-4f02-45b6-eca5-35397547a18b"
   },
   "outputs": [
    {
     "data": {
      "text/plain": [
       "0.5005005005005005"
      ]
     },
     "execution_count": 55,
     "metadata": {
      "tags": []
     },
     "output_type": "execute_result"
    }
   ],
   "source": [
    "X[np.argmax(Y)]"
   ]
  },
  {
   "cell_type": "markdown",
   "metadata": {
    "colab_type": "text",
    "id": "n88PQvomCXXH"
   },
   "source": [
    "### 3. What is the expectation value of $x$?"
   ]
  },
  {
   "cell_type": "code",
   "execution_count": 0,
   "metadata": {
    "colab": {
     "base_uri": "https://localhost:8080/",
     "height": 34
    },
    "colab_type": "code",
    "executionInfo": {
     "elapsed": 576,
     "status": "ok",
     "timestamp": 1579281662536,
     "user": {
      "displayName": "Wei Ge",
      "photoUrl": "",
      "userId": "13623893124469451506"
     },
     "user_tz": 300
    },
    "id": "ZZkBaj8cHw6-",
    "outputId": "32005758-cba0-44e4-e317-94df38300aee"
   },
   "outputs": [
    {
     "name": "stdout",
     "output_type": "stream",
     "text": [
      "(1.0000000000000007, 1.363303477330195e-10)\n"
     ]
    }
   ],
   "source": [
    "def integrand1(x):\n",
    "    return x*integrand(x)/I[0] # Return nomalized probability distribution * v\n",
    "\n",
    "I1 = quad(integrand1,0,np.inf)\n",
    "print(I1)\n"
   ]
  },
  {
   "cell_type": "markdown",
   "metadata": {
    "colab_type": "text",
    "id": "IHfU7A37CXXI"
   },
   "source": [
    "### 4. What is the variance of $x$?"
   ]
  },
  {
   "cell_type": "code",
   "execution_count": 0,
   "metadata": {
    "colab": {
     "base_uri": "https://localhost:8080/",
     "height": 34
    },
    "colab_type": "code",
    "executionInfo": {
     "elapsed": 388,
     "status": "ok",
     "timestamp": 1579281671958,
     "user": {
      "displayName": "Wei Ge",
      "photoUrl": "",
      "userId": "13623893124469451506"
     },
     "user_tz": 300
    },
    "id": "DAzyV9j8Ly4e",
    "outputId": "67ffdbeb-d8bf-4fea-f0bb-f2b28e2457b3"
   },
   "outputs": [
    {
     "name": "stdout",
     "output_type": "stream",
     "text": [
      "0.49999999999999933\n"
     ]
    }
   ],
   "source": [
    "def integrand2(x):\n",
    "    return x*x*integrand(x)/I[0] # Return nomalized probability distribution * v^2\n",
    "\n",
    "I2 = quad(integrand2,0,np.inf) \n",
    "\n",
    "var=I2[0]-I1[0]**2 # Variance can be calculated as <P(x)^2>-<P(x)>^2\n",
    "print(var)"
   ]
  },
  {
   "cell_type": "markdown",
   "metadata": {
    "colab_type": "text",
    "id": "3LujRiVqCXXI"
   },
   "source": [
    "## Problem 3: One rough night"
   ]
  },
  {
   "cell_type": "markdown",
   "metadata": {
    "colab_type": "text",
    "id": "_b_1KcoQCXXJ"
   },
   "source": [
    "It's late on a Friday night and people are stumbling up Notre Dame Ave. to their dorms. You observe one particularly impaired individual who is taking steps of equal length 1m to the north or south (i.e., in one dimension), with equal probability."
   ]
  },
  {
   "cell_type": "markdown",
   "metadata": {
    "colab_type": "text",
    "id": "zNOTJ9p3CXXJ"
   },
   "source": [
    "### 1. What is the furthest distance the person could travel after 20 steps?"
   ]
  },
  {
   "cell_type": "code",
   "execution_count": 0,
   "metadata": {
    "colab": {
     "base_uri": "https://localhost:8080/",
     "height": 34
    },
    "colab_type": "code",
    "executionInfo": {
     "elapsed": 454,
     "status": "ok",
     "timestamp": 1579281676667,
     "user": {
      "displayName": "Wei Ge",
      "photoUrl": "",
      "userId": "13623893124469451506"
     },
     "user_tz": 300
    },
    "id": "dQjgVEZmRgjb",
    "outputId": "304c979c-050b-44ce-afd3-65b784cf3361"
   },
   "outputs": [
    {
     "name": "stdout",
     "output_type": "stream",
     "text": [
      "The furthest distance the person could travel after 20 steps = \t 20\n"
     ]
    }
   ],
   "source": [
    "n=20\n",
    "print('The furthest distance the person could travel after 20 steps = \\t',n)"
   ]
  },
  {
   "cell_type": "markdown",
   "metadata": {
    "colab_type": "text",
    "id": "jUhhMqUTCXXK"
   },
   "source": [
    "### 2. What is the probability that the person won't have traveled any net distance at all after 20 steps?"
   ]
  },
  {
   "cell_type": "code",
   "execution_count": 0,
   "metadata": {
    "colab": {
     "base_uri": "https://localhost:8080/",
     "height": 34
    },
    "colab_type": "code",
    "executionInfo": {
     "elapsed": 421,
     "status": "ok",
     "timestamp": 1579281679331,
     "user": {
      "displayName": "Wei Ge",
      "photoUrl": "",
      "userId": "13623893124469451506"
     },
     "user_tz": 300
    },
    "id": "EmewuCXRSFYc",
    "outputId": "caf65928-d9a3-4de0-99f3-4a9e06979e0f"
   },
   "outputs": [
    {
     "name": "stdout",
     "output_type": "stream",
     "text": [
      "The probability that the person will not have traveled any net distance at all after 20 steps = \t 0.17619705200195312\n"
     ]
    }
   ],
   "source": [
    "print('The probability that the person will not have traveled any net distance at all after 20 steps = \\t',math.factorial(20)/math.factorial(10)/math.factorial(10)/2**20,) \n",
    "# Going nowhere - 10 steps south + 10 steps north 10C20\n",
    "# Total 2^20 "
   ]
  },
  {
   "cell_type": "markdown",
   "metadata": {
    "colab_type": "text",
    "id": "FpA5IkuxCXXK"
   },
   "source": [
    "### 3. What is the probability that the person has traveled half the maximum distance after 20 steps?"
   ]
  },
  {
   "cell_type": "code",
   "execution_count": 0,
   "metadata": {
    "colab": {
     "base_uri": "https://localhost:8080/",
     "height": 34
    },
    "colab_type": "code",
    "executionInfo": {
     "elapsed": 542,
     "status": "ok",
     "timestamp": 1579281685783,
     "user": {
      "displayName": "Wei Ge",
      "photoUrl": "",
      "userId": "13623893124469451506"
     },
     "user_tz": 300
    },
    "id": "0KUFBI1fTD3D",
    "outputId": "b066d399-52a0-40a1-87a2-a117bce68e45"
   },
   "outputs": [
    {
     "name": "stdout",
     "output_type": "stream",
     "text": [
      "The probability that the person has traveled half the maximun distance after 20 steps = \t 0.029571533203125\n"
     ]
    }
   ],
   "source": [
    "print('The probability that the person has traveled half the maximun distance after 20 steps = \\t',2*math.factorial(20)/math.factorial(5)/math.factorial(15)/2**20,)\n",
    "# Going half the maximun distance - 15 steps south + 5 steps north or 15 steps north + 5 steps south\n",
    "# Total 2_20"
   ]
  },
  {
   "cell_type": "markdown",
   "metadata": {
    "colab_type": "text",
    "id": "8slmJCVTCXXL"
   },
   "source": [
    "### 4. Plot the probability of traveling a given distance vs distance. Does the probability distribution look familiar?  You'll see it again when we talk about diffusion."
   ]
  },
  {
   "cell_type": "code",
   "execution_count": 0,
   "metadata": {
    "colab": {
     "base_uri": "https://localhost:8080/",
     "height": 295
    },
    "colab_type": "code",
    "executionInfo": {
     "elapsed": 568,
     "status": "ok",
     "timestamp": 1579287803556,
     "user": {
      "displayName": "Wei Ge",
      "photoUrl": "",
      "userId": "13623893124469451506"
     },
     "user_tz": 300
    },
    "id": "CW2srzi0UW41",
    "outputId": "1cbc0b40-2d23-4776-a481-6c3fe1c516e8"
   },
   "outputs": [
    {
     "data": {
      "image/png": "[encoded data removed]",
      "text/plain": [
       "<Figure size 432x288 with 1 Axes>"
      ]
     },
     "metadata": {
      "tags": []
     },
     "output_type": "display_data"
    }
   ],
   "source": [
    "X=[]\n",
    "Y=[]\n",
    "for x in range(21): # x stps going south \n",
    "  y=math.factorial(20)/math.factorial(x)/math.factorial(20-x)/2**20  # Pick x steps from 20 steps xC20 / Total\n",
    "  X.append(x-(20-x)) \n",
    "  # X means the final distance. The steps going south - the steps going north. If x=0, X=-20 ... If x=20, X=20. Postive means south\n",
    "  Y.append(y)\n",
    "\n",
    "plt.bar(X,Y)\n",
    "plt.xlabel('distance');\n",
    "plt.ylabel('P(x)');\n",
    "plt.title('Probability distribution')\n",
    "plt.show()"
   ]
  },
  {
   "cell_type": "markdown",
   "metadata": {
    "colab_type": "text",
    "id": "-GTpf883CXXL"
   },
   "source": [
    "## Problem 4: Now this is what I call equilibrium"
   ]
  },
  {
   "cell_type": "markdown",
   "metadata": {
    "colab_type": "text",
    "id": "aHs1_8nRCXXM"
   },
   "source": [
    "The Boltzmann distribution tells us that, at thermal equilibrium, the probability of a particle having an energy $E$ is proportional to $\\exp(-E/k_\\text{B}T)$, where $k_\\text{B}$ is the Boltzmann constant.  Suppose a bunch of gas particles of mass $m$ are in thermal equilibrium at temperature $T$ and are traveling back and forth in one dimension with various velocities $v$ and kinetic energies $K=mv^2/2$.\n",
    "\n"
   ]
  },
  {
   "cell_type": "markdown",
   "metadata": {
    "colab_type": "text",
    "id": "9Vfds2xdCXXM"
   },
   "source": [
    "### 1. What is the expectation value of the velocity $v$ of a particle?"
   ]
  },
  {
   "cell_type": "markdown",
   "metadata": {
    "colab_type": "text",
    "id": "MjBh9a7Et7Au"
   },
   "source": [
    "$P = Ce^{-\\frac{mv^2}{2k_B T}},-\\infty\\le v < \\infty$.\n",
    "\n",
    "$\\int_{-\\infty} ^{\\infty} vCe^{-\\frac{mv^2}{2k_B T}} dv = 0$\n",
    "\n",
    "$V = \\frac{\\int_{0}^{\\infty} vCe^{-\\frac{mv^2}{2k_B T}} dv}{\\int_{0}^{\\infty} Ce^{-\\frac{mv^2}{2k_B T}} dv} \n",
    "=0$\n"
   ]
  },
  {
   "cell_type": "code",
   "execution_count": 0,
   "metadata": {
    "colab": {
     "base_uri": "https://localhost:8080/",
     "height": 51
    },
    "colab_type": "code",
    "executionInfo": {
     "elapsed": 530,
     "status": "ok",
     "timestamp": 1579710386309,
     "user": {
      "displayName": "Amanda Brown",
      "photoUrl": "",
      "userId": "16595272672670702665"
     },
     "user_tz": 300
    },
    "id": "HczW32qusStS",
    "outputId": "6f319f33-8173-402f-d886-e0d57fe606f6"
   },
   "outputs": [
    {
     "name": "stdout",
     "output_type": "stream",
     "text": [
      "0\n",
      "The expectation value of velocity is 0\n"
     ]
    }
   ],
   "source": [
    "from sympy import *\n",
    "v = Symbol('x')\n",
    "C=Symbol('C',positive=True)\n",
    "m=Symbol('m',positive=True)\n",
    "kB=Symbol('kB',positive=True)\n",
    "T=Symbol('T',positive=True)\n",
    "\n",
    "#Next create a function\n",
    "function = integrate(C*exp(-m*v**2/2/kB/T),(v,-oo,+oo)) #Denominator\n",
    "function2 = integrate(v*C*exp(-m*v**2/2/kB/T)/function,(v,-oo,+oo)) #Numerator\n",
    "\n",
    "print('The expectation value of velocity is',function2/function)"
   ]
  },
  {
   "cell_type": "markdown",
   "metadata": {
    "colab_type": "text",
    "id": "balOZ2qwCXXN"
   },
   "source": [
    "### 2. What is the expectation value of the kinetic energy $K$ of a particle? How does your answer depend on the particle mass? On temperature?"
   ]
  },
  {
   "cell_type": "markdown",
   "metadata": {
    "colab_type": "text",
    "id": "h-RjOvvo69vH"
   },
   "source": [
    "$\\int_{-\\infty}^{\\infty} Ce^{-\\frac{mv^2}{2k_B T}} dv = C(\\frac{2k_B T\\pi}{m})^\\frac{1}{2} $\n",
    "\n",
    "$\\int_{-\\infty}^{\\infty} \\frac{mv^2}{2}Ce^{-\\frac{mv^2}{2k_B T}} dv = \\frac{Ck_B T}{2}(\\frac{2k_B T\\pi}{m})^\\frac{1}{2} $\n",
    "\n",
    "$K = \\frac{\\int_{-\\infty}^{\\infty} \\frac{mv^2}{2}Ce^{-\\frac{mv^2}{2k_B T}} dv}{\\int_{-\\infty}^{\\infty} Ce^{-\\frac{mv^2}{2k_B T}} dv} \n",
    "=\\frac{k_B T}{2}$\n",
    "\n",
    "K will increase when temperature increases(linear relationship), but unrelated to the particle mass.\n"
   ]
  },
  {
   "cell_type": "markdown",
   "metadata": {
    "colab_type": "text",
    "id": "1Qz-puLR8H3a"
   },
   "source": [
    "Hint:\n",
    "\n",
    "$\\int_{0}^{\\infty} e^{-ax^2} dx = \\frac{1}{2}(\\frac{pi}{a})^\\frac{1}{2} $\n",
    "\n",
    "$\\int_{0}^{\\infty} xe^{-ax^2} dx = \\frac{1}{2a}$\n",
    "\n",
    "\n",
    "$\\int_{0}^{\\infty} x^2e^{-ax^2} dx = \\frac{1}{4a}(\\frac{pi}{a})^\\frac{1}{2} $"
   ]
  },
  {
   "cell_type": "code",
   "execution_count": 0,
   "metadata": {
    "colab": {
     "base_uri": "https://localhost:8080/",
     "height": 34
    },
    "colab_type": "code",
    "executionInfo": {
     "elapsed": 457,
     "status": "ok",
     "timestamp": 1579281708528,
     "user": {
      "displayName": "Wei Ge",
      "photoUrl": "",
      "userId": "13623893124469451506"
     },
     "user_tz": 300
    },
    "id": "ASADUsOrt6GC",
    "outputId": "70fba391-bcd2-4839-996b-8c110c319a54"
   },
   "outputs": [
    {
     "name": "stdout",
     "output_type": "stream",
     "text": [
      "The expectation value of kinetic energy K is T*kB/2\n"
     ]
    }
   ],
   "source": [
    "function3 = integrate(m*v**2/2*C*exp(-m*v**2/2/kB/T)/function,(v,-oo,+oo)) #Numerator\n",
    "print('The expectation value of kinetic energy K is',function3)"
   ]
  }
 ],
 "metadata": {
  "anaconda-cloud": {},
  "celltoolbar": "Raw Cell Format",
  "colab": {
   "collapsed_sections": [],
   "name": "P.Chem HW1.ipynb",
   "provenance": [
    {
     "file_id": "https://github.com/wmfschneider/CHE30324/blob/master/Homework/HW1.ipynb",
     "timestamp": 1578432428714
    }
   ]
  },
  "kernelspec": {
   "display_name": "Python 3",
   "language": "python",
   "name": "python3"
  },
  "language_info": {
   "codemirror_mode": {
    "name": "ipython",
    "version": 3
   },
   "file_extension": ".py",
   "mimetype": "text/x-python",
   "name": "python",
   "nbconvert_exporter": "python",
   "pygments_lexer": "ipython3",
   "version": "3.6.7"
  }
 },
 "nbformat": 4,
 "nbformat_minor": 0
}
