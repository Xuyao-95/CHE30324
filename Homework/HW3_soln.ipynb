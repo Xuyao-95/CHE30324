{
  "nbformat": 4,
  "nbformat_minor": 0,
  "metadata": {
    "anaconda-cloud": {},
    "kernelspec": {
      "display_name": "Python 3",
      "language": "python",
      "name": "python3"
    },
    "language_info": {
      "codemirror_mode": {
        "name": "ipython",
        "version": 3
      },
      "file_extension": ".py",
      "mimetype": "text/x-python",
      "name": "python",
      "nbconvert_exporter": "python",
      "pygments_lexer": "ipython3",
      "version": "3.7.4"
    },
    "colab": {
      "name": "“HW3.ipynb”的副本",
      "provenance": []
    }
  },
  "cells": [
    {
      "cell_type": "markdown",
      "metadata": {
        "collapsed": true,
        "id": "5c9Q5FiloRYs",
        "colab_type": "text"
      },
      "source": [
        "##### Chem 30324, Spring 2020, Homework3\n",
        "\n",
        "# Due February 5, 2020"
      ]
    },
    {
      "cell_type": "markdown",
      "metadata": {
        "id": "pENmKPWOoRY4",
        "colab_type": "text"
      },
      "source": [
        "## Heat capacity of solids"
      ]
    },
    {
      "cell_type": "markdown",
      "metadata": {
        "id": "fRCpKGwfoRZB",
        "colab_type": "text"
      },
      "source": [
        "### 1. In Einstein's [original paper](https://onlinelibrary.wiley.com/doi/abs/10.1002/andp.19063270110) on the heat capacity of solids, he compared his model results to experiments on diamond, using a frequency for the vibrating C atoms $\\nu = 2.75 \\times 10^{13} \\text{s}^{-1}$.  What fundamentally did he assume about the vibrating C atoms to describe the heat capacity of diamond?"
      ]
    },
    {
      "cell_type": "markdown",
      "metadata": {
        "id": "xV7nlcTwCQ20",
        "colab_type": "text"
      },
      "source": [
        "1. Each solid is composed of a lattice structure consisting of N atoms. Each atom is treated as moving independently in three dimensions within the lattice (3 degrees of freedom). The entire lattice's vibrational motion could be described by a total of 3N motions, or degrees of freedom. \n",
        "2. The atoms inside the solid lattice do not interact with each other.\n",
        "3. All of the atoms inside the solid vibrate at the same frequency."
      ]
    },
    {
      "cell_type": "markdown",
      "metadata": {
        "id": "wojrhIIKoRZQ",
        "colab_type": "text"
      },
      "source": [
        "### 2. Plot the Einstein model for the heat capacity of diamond from 0 to 1500 K."
      ]
    },
    {
      "cell_type": "code",
      "metadata": {
        "id": "dFDCk-j0oxHC",
        "colab_type": "code",
        "outputId": "2e47f6cb-c292-4f2f-c22e-c4f288a508c8",
        "colab": {
          "base_uri": "https://localhost:8080/",
          "height": 400
        }
      },
      "source": [
        "import numpy as np\n",
        "import matplotlib.pyplot as plt\n",
        "h = 6.626e-34 #Planck constant in m^2*kg/s\n",
        "f = 2.75e13 #Vibrating frequency of carbon in s^-1\n",
        "kB = 1.38e-23 #Boltzmann const in m^2*kg/s^2/K\n",
        "T = np.arange(0,1500,1) # Temperature range from 0 to 1500 K\n",
        "R = 8.314  #Gas constant m^2*kg/s^2/K/mol\n",
        "def Cv(T):\n",
        " return (3*R)*(h*f/kB/T)**2*np.exp(h*f/kB/T)/(np.exp(h*f/kB/T)-1)**2 \n",
        "plt.plot(T,Cv(T))\n",
        "\n",
        "plt.title('Einstein model for the heat capaciyt of diamond from 0 to 1500K')\n",
        "plt.xlabel('T(K)')\n",
        "plt.ylabel('Heat capacity(J/(mol*K)')\n",
        "plt.show()"
      ],
      "execution_count": 0,
      "outputs": [
        {
          "output_type": "stream",
          "text": [
            "/usr/local/lib/python3.6/dist-packages/ipykernel_launcher.py:9: RuntimeWarning: overflow encountered in exp\n",
            "  if __name__ == '__main__':\n",
            "/usr/local/lib/python3.6/dist-packages/ipykernel_launcher.py:9: RuntimeWarning: overflow encountered in square\n",
            "  if __name__ == '__main__':\n",
            "/usr/local/lib/python3.6/dist-packages/ipykernel_launcher.py:9: RuntimeWarning: invalid value encountered in true_divide\n",
            "  if __name__ == '__main__':\n"
          ],
          "name": "stderr"
        },
        {
          "output_type": "display_data",
          "data": {
            "image/png": "[encoded data removed]",
            "text/plain": [
              "<Figure size 432x288 with 1 Axes>"
            ]
          },
          "metadata": {
            "tags": []
          }
        }
      ]
    },
    {
      "cell_type": "markdown",
      "metadata": {
        "id": "cq_9ddlAoRZd",
        "colab_type": "text"
      },
      "source": [
        "### 3. What is the probability for a C atom to have $n=1$ quanta of energy relative to $n=0$ at 1500 K?  At 150 K?"
      ]
    },
    {
      "cell_type": "code",
      "metadata": {
        "id": "2EtBA2Kux8nO",
        "colab_type": "code",
        "outputId": "2032066f-cde2-4134-edee-ff7a1e192c8a",
        "colab": {
          "base_uri": "https://localhost:8080/",
          "height": 35
        }
      },
      "source": [
        "RP_1500 = np.exp(-h*f/kB/1500)/np.exp(0) #Relative probality between n = 1 and n = 0\n",
        "RP_150 = np.exp(-h*f/kB/150)/np.exp(0)\n",
        "print('The probability of a C atom to have n=1 quanta of energy relative to n=0 at 1500K is %f and at 150K is %f' %(RP_1500,RP_150))"
      ],
      "execution_count": 0,
      "outputs": [
        {
          "output_type": "stream",
          "text": [
            "The probability of a C atom to have n=1 quanta of energy relative to n=0 at 1500K is 0.414673 and at 150K is 0.000150\n"
          ],
          "name": "stdout"
        }
      ]
    },
    {
      "cell_type": "markdown",
      "metadata": {
        "id": "B6bVZh5hoRZq",
        "colab_type": "text"
      },
      "source": [
        "## Blackbody radiators.\n",
        "By treating the sun as a blackbody radiator, Joseph Stefan derived the first reliable estimate of the temperature of the sun’s surface."
      ]
    },
    {
      "cell_type": "markdown",
      "metadata": {
        "id": "qXPNosbooRZw",
        "colab_type": "text"
      },
      "source": [
        "### 4. Stefan estimated that the power per unit area radiated from the surface of the sun was 43.5 times greater than that of a metal bar heated to 1950 ̊C. What is the temperature of the sun?"
      ]
    },
    {
      "cell_type": "code",
      "metadata": {
        "id": "pImOh6rc1bsc",
        "colab_type": "code",
        "outputId": "c9f8590f-81b9-44c0-9028-a15fd3c32285",
        "colab": {
          "base_uri": "https://localhost:8080/",
          "height": 35
        }
      },
      "source": [
        "#Stefan-Boltzmann distribution said E = sigma*T^4, where E is power per area and sigma is constant\n",
        "#E_sun/E_metal_bar = 43.5 = T_sun^4/T_metal_bar^4\n",
        "T_metal_bar = 1950 + 273 #Temperature of metal bar in K\n",
        "T_sun = (T_metal_bar**4*43.5)**0.25\n",
        "print('The temperature of sun is %f K' %T_sun)"
      ],
      "execution_count": 0,
      "outputs": [
        {
          "output_type": "stream",
          "text": [
            "The temperature of sun is 5709.022793 K\n"
          ],
          "name": "stdout"
        }
      ]
    },
    {
      "cell_type": "markdown",
      "metadata": {
        "id": "gCy2O07xoRZ1",
        "colab_type": "text"
      },
      "source": [
        "### 5. Based on this temperature, what wavelength $\\lambda$ of light does the sun emit most intensely, in nm? What frequency of light, in s$^{–1}$? What color does this correspond to?"
      ]
    },
    {
      "cell_type": "code",
      "metadata": {
        "id": "Og1gq5tQ3PsF",
        "colab_type": "code",
        "outputId": "23e59ae0-62fd-4e09-c1d3-cb6543a5a786",
        "colab": {
          "base_uri": "https://localhost:8080/",
          "height": 52
        }
      },
      "source": [
        "#Use Wien's Law lambda_max*T=constant\n",
        "const = 2897768 #Wien constant in nm*K\n",
        "lambda_max = const / T_sun #wave length in nm\n",
        "c = 3e8*1e9 #speed of light in vaccum in nm/s\n",
        "f_max = c/lambda_max #frequency of light in s^-1\n",
        "print('The wavelength of light the sun emits most intensely is %f nm, the frequency of the light is %E s^-1.' %(lambda_max,f_max))\n",
        "print('The color of the light is green.')"
      ],
      "execution_count": 0,
      "outputs": [
        {
          "output_type": "stream",
          "text": [
            "The wavelength of light the sun emits most intensely is 507.576884 nm, the frequency of the light is 5.910435E+14 s^-1.\n",
            "The color of the light is green.\n"
          ],
          "name": "stdout"
        }
      ]
    },
    {
      "cell_type": "markdown",
      "metadata": {
        "id": "G43x_f3XoRZ9",
        "colab_type": "text"
      },
      "source": [
        "### 6. What is the ultraviolet catastrophe, and what did Planck have to assume to circumvent it?"
      ]
    },
    {
      "cell_type": "markdown",
      "metadata": {
        "id": "eOgFo-8g8r2x",
        "colab_type": "text"
      },
      "source": [
        "The ultraviolet catastrophe is the error in using classical theory(Rayleigh-Jeans theory) to describe the energy spectrum of an ideal black-body in short wavelength region. Planck assumed that energy is quantized, which means electromagnetic radiation can only be emitted or absorbed in discrete energies."
      ]
    },
    {
      "cell_type": "markdown",
      "metadata": {
        "id": "NNWKP972oRaA",
        "colab_type": "text"
      },
      "source": [
        "## Photoelectric effect.\n",
        "The photoelectric effect refers to the emission of electrons that is observed when light is shone on a metal. The effect was the clue that Einstein needed to illucidate the particulate nature of the interaction of light and matter."
      ]
    },
    {
      "cell_type": "markdown",
      "metadata": {
        "id": "pcb1fRq9oRaF",
        "colab_type": "text"
      },
      "source": [
        "### 7. You set up an experiment in which you shine light of varying intensity and constant frequency at a metal surface and measure the maximum kinetic energy of the emitted electrons. As an accomplished student of classical physics, you know that the energy contained in a wave is proportional to the square of its intensity. Based on this knowledge, sketch how you $expect$ the kinetic energy of the electrons to vary in the experiment. Briefly justify your answer."
      ]
    },
    {
      "cell_type": "code",
      "metadata": {
        "id": "goKi7M8_-ick",
        "colab_type": "code",
        "outputId": "14f726e6-95ed-4e42-9d71-54d19547a90a",
        "colab": {
          "base_uri": "https://localhost:8080/",
          "height": 278
        }
      },
      "source": [
        "import numpy as np\n",
        "import matplotlib.pyplot as plt\n",
        "I = np.arange(0,1000,1)\n",
        "def E(I):\n",
        "  return I**2\n",
        "plt.plot(I,E(I))\n",
        "\n",
        "plt.title('Kinetic energy vs light intensity')\n",
        "plt.xlabel('Intensity')\n",
        "plt.ylabel('KE')\n",
        "plt.xticks([])\n",
        "plt.yticks([])\n",
        "plt.show()"
      ],
      "execution_count": 0,
      "outputs": [
        {
          "output_type": "display_data",
          "data": {
            "image/png": "[encoded data removed]",
            "text/plain": [
              "<Figure size 432x288 with 1 Axes>"
            ]
          },
          "metadata": {
            "tags": []
          }
        }
      ]
    },
    {
      "cell_type": "markdown",
      "metadata": {
        "id": "N3MDfbvhoRaM",
        "colab_type": "text"
      },
      "source": [
        "### 8. Not finding a result that you like, you set up another experiment in which you vary the frequency of light at constant intensity. Below is the data you collect. Use graphical analysis to determine the workfunction of the metal, in eV, and to estimate Planck’s constant."
      ]
    },
    {
      "cell_type": "markdown",
      "metadata": {
        "id": "FxhFvf2roRaQ",
        "colab_type": "text"
      },
      "source": [
        "|Light Wavelength (nm)|Electron Kinetic Energy (eV)|\n",
        "|:-:|:-:|\n",
        "|263|0.13|\n",
        "|250|0.33|\n",
        "|234|0.68|\n",
        "|218|1.08|\n",
        "|184|2.13|"
      ]
    },
    {
      "cell_type": "code",
      "metadata": {
        "id": "Bjrr3ZpQKFFk",
        "colab_type": "code",
        "outputId": "42636260-9c35-44f3-936b-2783448ab7ac",
        "colab": {
          "base_uri": "https://localhost:8080/",
          "height": 319
        }
      },
      "source": [
        "KE = [0.13, 0.33, 0.68, 1.08, 2.13] #Kinetic energy in eV\n",
        "c = 3e-17 #speed of light in nm/s\n",
        "f = [c/263, c/250, c/234, c/218, c/184] #frequency of light in s^-1\n",
        "h, nW = np.polyfit(f,KE,1) #fit data with first order polynomial, assign slope to the planck constant and y-intercept to negtive workfuntion\n",
        "W = -nW\n",
        "KE_fit = np.poly1d([0,h,nW]) #use the fitted slope and y-intercept to draw the fitting line\n",
        "\n",
        "plt.plot(f,KE,'.')\n",
        "plt.plot(f,KE_fit(f),'')\n",
        "plt.xlabel('Frequency (s$^{-1}$)')\n",
        "plt.ylabel('Electron Kinetic Energy (eV)')\n",
        "plt.title('Kinetic energy vs Frequency')\n",
        "plt.show\n",
        "\n",
        "print('The workfunction of the metal is %f ev and the estimate Planck constant is %E eV*s' %(W,h))"
      ],
      "execution_count": 0,
      "outputs": [
        {
          "output_type": "stream",
          "text": [
            "The workfunction of the metal is 4.597804 ev and the estimate Planck constant is 4.123957E+19 eV*s\n"
          ],
          "name": "stdout"
        },
        {
          "output_type": "display_data",
          "data": {
            "image/png": "[encoded data removed]",
            "text/plain": [
              "<Figure size 432x288 with 1 Axes>"
            ]
          },
          "metadata": {
            "tags": []
          }
        }
      ]
    },
    {
      "cell_type": "markdown",
      "metadata": {
        "id": "TJc2QzhpoRaT",
        "colab_type": "text"
      },
      "source": [
        "### 9. What is the metal? $Hint:$ It is a coinage metal."
      ]
    },
    {
      "cell_type": "markdown",
      "metadata": {
        "id": "L8YIFy0rOVxW",
        "colab_type": "text"
      },
      "source": [
        "See e.g. http://dx.doi.org/10.1103/PhysRevB.46.7157 for a tabulation of workfunctions. Values depend on the metal and on the specific crystal face. The metal is in the range expected for copper or silver."
      ]
    },
    {
      "cell_type": "markdown",
      "metadata": {
        "id": "M3QL_an0oRaW",
        "colab_type": "text"
      },
      "source": [
        "## Diffraction.\n",
        "Diffraction is the scattering of particles off of a crystal, and is today an essential means of probing the structure of matter. Modern diffraction is performed using bright light and particle sources of various types."
      ]
    },
    {
      "cell_type": "markdown",
      "metadata": {
        "id": "jwY9GvqeoRac",
        "colab_type": "text"
      },
      "source": [
        "### 10. The spacing between atoms in a Ag crystal is approximately 2.9 Å, a distance that can be measured by scattering photons of a comparable wavelength off the crystal. What is the energy (in eV) of a photon of wavelength 2.9 Å? What part of the electromagnetic spectrum does this correspond to?"
      ]
    },
    {
      "cell_type": "code",
      "metadata": {
        "id": "07AkFYTxMXVq",
        "colab_type": "code",
        "outputId": "b5673459-0dc9-4149-9ac4-b297b6e494a3",
        "colab": {
          "base_uri": "https://localhost:8080/",
          "height": 35
        }
      },
      "source": [
        "h = 6.626e-34 #Planck constant in m^2*kg/s\n",
        "c = 3e8 #speed of light in vaccum in m/s\n",
        "wavelength = 0.29e-9 #wavelength in m\n",
        "E = h*c/wavelength*6.242e18 # convert to ev\n",
        "print('The energy of a photon of wavelength 2.9 angstrom is %.3f ev' %E)"
      ],
      "execution_count": 0,
      "outputs": [
        {
          "output_type": "stream",
          "text": [
            "The energy of a photon of wavelength 2.9 angstrom is 4278.568 ev\n"
          ],
          "name": "stdout"
        }
      ]
    },
    {
      "cell_type": "markdown",
      "metadata": {
        "id": "Ax6HWiTHoRaf",
        "colab_type": "text"
      },
      "source": [
        "### 11. Suppose you have a device that produces these photons at a power of 1 μW. How many photons/s does this correspond to?"
      ]
    },
    {
      "cell_type": "code",
      "metadata": {
        "id": "6rSD5yhFPZyZ",
        "colab_type": "code",
        "outputId": "b9a4336a-5271-44f8-a102-237015b7cea4",
        "colab": {
          "base_uri": "https://localhost:8080/",
          "height": 35
        }
      },
      "source": [
        "Power = 1e-6 #J/s\n",
        "E_J = E*1.60218e-19 #convert to J\n",
        "n = Power/E_J #photons per second\n",
        "print('%E photons/s correspond to this power' %n)"
      ],
      "execution_count": 0,
      "outputs": [
        {
          "output_type": "stream",
          "text": [
            "1.458781E+09 photons/s correspond to this power\n"
          ],
          "name": "stdout"
        }
      ]
    },
    {
      "cell_type": "markdown",
      "metadata": {
        "id": "fWpODpdqoRai",
        "colab_type": "text"
      },
      "source": [
        "### 12. The Ag spacing can also be measured by scattering $electrons$ off a crystal. To what speed (in m/s) would an electron need to be accelerated to have the necessary de Broglie wavelength? What fraction of the speed of light is this?"
      ]
    },
    {
      "cell_type": "code",
      "metadata": {
        "id": "T3k-kiqGDVa4",
        "colab_type": "code",
        "outputId": "f912d787-32f7-4788-9631-c1206fed988f",
        "colab": {
          "base_uri": "https://localhost:8080/",
          "height": 35
        }
      },
      "source": [
        "me = 9.10938215e-31 #mass of electron in kg\n",
        "p = h/wavelength #momentum in m*kg/s\n",
        "v = p/me #speed of electron in m/s\n",
        "fraction = v/c \n",
        "print('An electron need to be accelerated to %E m/s to have the necessary de Broglie wavelength, this is speed is %f of the speed of light' %(v,fraction))"
      ],
      "execution_count": 0,
      "outputs": [
        {
          "output_type": "stream",
          "text": [
            "An electron need to be accelerated to 2.508214E+06 m/s to have the necessary de Broglie wavelength, this is speed is 0.008361 of the speed of light\n"
          ],
          "name": "stdout"
        }
      ]
    }
  ]
}