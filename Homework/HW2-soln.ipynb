{
 "cells": [
  {
   "cell_type": "markdown",
   "metadata": {},
   "source": [
    "# Chem 30324, Spring 2019, Homework 2\n",
    "## Due: January 30, 2019"
   ]
  },
  {
   "cell_type": "markdown",
   "metadata": {},
   "source": [
    "## Problem 1. Gases on a table top"
   ]
  },
  {
   "cell_type": "markdown",
   "metadata": {},
   "source": [
    "In class we derived the properties of a 3-dimensional gas from the Boltzmann distribution and three postulates, and you studied a 1-dimensional gas in Homework 1. Suppose you were interested instead in a 2-dimensional gas, for example gas molecules able to freely skate around on a surface but that couldn’t escape the surface."
   ]
  },
  {
   "cell_type": "markdown",
   "metadata": {},
   "source": [
    "### 1. Derive the Maxwell-Boltzman speed distribution for a 2-dimensional gas. (*Hint*: Think polar coordinates.)"
   ]
  },
  {
   "cell_type": "code",
   "execution_count": 274,
   "metadata": {},
   "outputs": [
    {
     "name": "stdout",
     "output_type": "stream",
     "text": [
      "Maxwell-Boltzman distribution:  sqrt(2)*sqrt(pi)*v*sqrt(m/(T*k))*exp(-m*v**2/(2*T*k))\n",
      "Coefficient for nomalizing:  sqrt(2)*sqrt(pi)*T*k*sqrt(m/(T*k))/m\n"
     ]
    }
   ],
   "source": [
    "from sympy import *  # Use sympy module for symbolic calculation. \n",
    "m=Symbol('m')  # Define symbols for calculation. \n",
    "k=Symbol('k')\n",
    "T=Symbol('T')\n",
    "v=Symbol('v')\n",
    "o=Symbol('o')\n",
    "P=integrate(sqrt(m/(2*pi*k*T))*exp(-m*v**2/(2*k*T))*v,(o,0,2*pi))  # o serve as theta here, representing the angle of velocity. \n",
    "NP=integrate(sqrt(2*pi*m/(k*T))*v*exp(-m*v**2/(2*T*k)),(v,0,+oo),conds='none')\n",
    "print(\"Maxwell-Boltzman distribution: \",P)\n",
    "print(\"Coefficient for nomalizing: \",NP)"
   ]
  },
  {
   "cell_type": "markdown",
   "metadata": {},
   "source": [
    "For 2-dimensional gas, Maxwell-Boltzman speed distribution:\n",
    "\n",
    "$p(v)=\\sqrt{\\frac{2\\pi m}{kT}}ve^{\\frac{-mv^2}{2kT}}$\n",
    "\n",
    "$\\int_{0}^{\\infty} p(v)dv=\\sqrt{\\frac{2\\pi kT}{m}}$\n",
    "\n",
    "$\\therefore \\widetilde{P}(x)=\\frac{mv}{kT}e^{\\frac{-mv^2}{2kT}}$"
   ]
  },
  {
   "cell_type": "markdown",
   "metadata": {},
   "source": [
    "### 2. Plot this 2-dimensional speed distribution for O$_2$ molecules at 200, 400 and 600 K."
   ]
  },
  {
   "cell_type": "code",
   "execution_count": 275,
   "metadata": {},
   "outputs": [
    {
     "data": {
      "image/png": "[encoded data removed]",
      "text/plain": [
       "<Figure size 432x288 with 1 Axes>"
      ]
     },
     "metadata": {
      "needs_background": "light"
     },
     "output_type": "display_data"
    }
   ],
   "source": [
    "import matplotlib.pyplot as plt\n",
    "import numpy as np\n",
    "v=np.linspace(0,1500,1000) \n",
    "p=[]\n",
    "T=[200,400,600]\n",
    "k=1.38064852*10**(-23)\n",
    "m=32/(6.02*10**26)\n",
    "def MBp(v):  # It is required to build a 'callable function' for latter integrate calculation. \n",
    "    return m*v/(k*t)*exp(-m*v**2/(2*k*t))\n",
    "for j in range(3):\n",
    "    t=T[j]  # Setting value for temperature in every loop. \n",
    "    for i in range(1000):\n",
    "        p.append(MBp(v[i]))  # Append data to the list for plotting use. \n",
    "        i+=1\n",
    "    plt.plot(v,p,label='%i K'%t)  # Plot the data stored in the list. \n",
    "    p.clear()  # Clear the list for next loop. \n",
    "    plt.legend()  # Show the label of each line. \n",
    "    plt.xlabel('Molecule speed (m/s)')\n",
    "    plt.ylabel('Normalized Probability')\n",
    "# If you don't put the plot relative codes in the 'for' loop, it will return some strange text telling you where the data is stored. So it's recommended to code as shown. "
   ]
  },
  {
   "cell_type": "markdown",
   "metadata": {},
   "source": [
    "### 3. Calculate the mean (expected value) of the speed of a 2-dimensional gas of molecules. How does your answer compare to a 3-dimensional gas?"
   ]
  },
  {
   "cell_type": "code",
   "execution_count": 276,
   "metadata": {},
   "outputs": [
    {
     "name": "stdout",
     "output_type": "stream",
     "text": [
      "Mean of the speed of a 2-dimentional gas of molecules:\n",
      "√2⋅√π⋅√T⋅√k\n",
      "───────────\n",
      "    2⋅√m   \n"
     ]
    }
   ],
   "source": [
    "m=Symbol('m',positive=True)\n",
    "k=Symbol('k',positive=True)\n",
    "T=Symbol('T',positive=True)\n",
    "v=Symbol('v')\n",
    "expv=integrate(v*m*v/(k*T)*exp(-m*v**2/(2*k*T)),(v,0,+oo))\n",
    "print('Mean of the speed of a 2-dimentional gas of molecules:')\n",
    "pprint(expv)  # If you want to print out the results from sympy more graphically, use function 'pprint' rather than 'print'."
   ]
  },
  {
   "cell_type": "markdown",
   "metadata": {},
   "source": [
    "Mean of the speed of a 3-dimentional gas of molecules: \n",
    "$\\sqrt{\\frac{8kT}{\\pi m}}$\n",
    "\n",
    "Comparing:\n",
    "$\\sqrt{\\frac{\\pi kT}{2m}}$\n",
    "\n",
    "They are both proportional to $\\sqrt{\\frac{kT}{m}}$"
   ]
  },
  {
   "cell_type": "markdown",
   "metadata": {},
   "source": [
    "### 4. Calculate the mean kinetic energy of a 2-dimensional gas. How does your answer compare to a one and 3-dimensional gas?"
   ]
  },
  {
   "cell_type": "code",
   "execution_count": 279,
   "metadata": {},
   "outputs": [
    {
     "name": "stdout",
     "output_type": "stream",
     "text": [
      "Mean kinetic energy of a 2-dimensional gas:\n",
      "1.0⋅T⋅k\n",
      "───────\n",
      "   m   \n"
     ]
    }
   ],
   "source": [
    "expk=integrate(0.5*v*v*m*v/(k*T)*exp(-m*v**2/(2*k*T)),(v,0,+oo))\n",
    "print('Mean kinetic energy of a 2-dimensional gas:')\n",
    "pprint(expk)"
   ]
  },
  {
   "cell_type": "markdown",
   "metadata": {},
   "source": [
    "Mean kinetic energy of a 1-dimensional gas:\n",
    "$\\frac{0.5kT}{m}$\n",
    "\n",
    "Mean kinetic energy of a 2-dimensional gas:\n",
    "$\\frac{1.0kT}{m}$\n",
    "\n",
    "Mean kinetic energy of a 3-dimensional gas:\n",
    "$\\frac{1.5kT}{m}$\n",
    "\n",
    "Each degree of freedom contains kinetic energy of $\\frac{0.5kT}{m}$."
   ]
  },
  {
   "cell_type": "markdown",
   "metadata": {},
   "source": [
    "## Problem 2. (Kinetics and Transport)"
   ]
  },
  {
   "cell_type": "markdown",
   "metadata": {},
   "source": [
    "In junior Chemical Engineering laboratory, you will study the diffusion and solubility of CO$_2$ in an organic solvent using a diffusion cell like the one sketched here. <img src=\"imgs/HW2_P2.png\">Let’s suppose that the gas space at the top of the diffusion cell is approximately 2 cm high and 4 cm in diameter. Further suppose that the gas in the head of the cell is pure CO$_2$ at 298 K and 1 bar pressure. Note that CO$_2$ has a collision diameter d of 0.40 nm."
   ]
  },
  {
   "cell_type": "markdown",
   "metadata": {},
   "source": [
    "### 5. What does gas kinetic theory predict for the gas self-diffusion constant $D_{11}$ of CO$_2$ gas in the cell, in cm$^2$s$^{−1}$?"
   ]
  },
  {
   "cell_type": "code",
   "execution_count": 2,
   "metadata": {},
   "outputs": [
    {
     "name": "stdout",
     "output_type": "stream",
     "text": [
      "Self-diffusion constant of CO2 is 0.072993 cm^2/s.\n"
     ]
    }
   ],
   "source": [
    "import numpy as np\n",
    "T  = 298 # temperature in K \n",
    "p  = 1e5 # pressure in Pa\n",
    "d  = 4e-10 # collision diameter in m\n",
    "m  = 0.044/6.02e23 # mass in kg/molecule\n",
    "kb = 1.38e-23 # boltzmann constant in J/K\n",
    "\n",
    "a     = np.pi*d**2 #collision cross section area in m^2\n",
    "v     = (8*kb*T/(np.pi*m))**0.5  #average velocity in m/s\n",
    "lambd = kb*T/p/(2**0.5*a) # mean free path in m\n",
    "D11   = 1/3*lambd*v*10000 # self-diffusion constant in cm^2/s\n",
    "print('Self-diffusion constant of CO2 is %f cm^2/s.'%(D11))"
   ]
  },
  {
   "cell_type": "markdown",
   "metadata": {},
   "source": [
    "### 6. Use the Stokes-Einstein relationship to estimate the diffusion constant of CO$_2$ in the Stoddard solvent.  How does this compare with the diffusion constant in the gas phase? Why?"
   ]
  },
  {
   "cell_type": "code",
   "execution_count": 3,
   "metadata": {},
   "outputs": [
    {
     "name": "stdout",
     "output_type": "stream",
     "text": [
      "D_CO2_Stoddardsolvent is 0.000016 cm^2/s.\n",
      "The diffusion coefficient is smaller in Stoddard solvent due to greater viscosity.\n"
     ]
    }
   ],
   "source": [
    "r = d/2 # m\n",
    "visc = 1e-3 # Pa*s (between 0.74e-3 to 1.65e-3 Pa*s according to Wikipedia)\n",
    "D12 = kb*T/(4*np.pi*visc*r)*10000 # cm^2/s, slip boundary Stoke-Einstein equation is chosen because it's a interaction between a molecule and another molecule\n",
    "print('D_CO2_Stoddardsolvent is %f cm^2/s.'%(D12))\n",
    "print('The diffusion coefficient is smaller in Stoddard solvent due to greater viscosity.')"
   ]
  },
  {
   "cell_type": "markdown",
   "metadata": {},
   "source": [
    "### 7. We found in class that the probability for a molecule to diffuse a distance $x$ in time $t$ is Gaussian with mean 0 and standard deviation $\\sigma = \\sqrt{2D_{11}t}$. About how long will it take for 1/3 of the molecules starting at the center of the gas space to diffuse all the way to the surface of the liquid, i.e., > 1 cm?"
   ]
  },
  {
   "cell_type": "code",
   "execution_count": 4,
   "metadata": {},
   "outputs": [
    {
     "name": "stdout",
     "output_type": "stream",
     "text": [
      "P(>2/3)\t= 0.430727\n",
      "sigma\t= 2.321655 cm\n",
      "Time needed for 1/3 of gas to diffuse to the surface is 36.92 s\n"
     ]
    }
   ],
   "source": [
    "from scipy.stats import norm\n",
    "\n",
    "#Through searching in the web, you'll find a scipy function : ppf \n",
    "#stands for percent point function). Why? Because we're interested in \n",
    "#the 66.7 percentile of a normal distribution function (mu=0, sigma=1).\n",
    "prob = norm.ppf(2/3); print(\"P(>2/3)\\t= %f\"%prob)  \n",
    "\n",
    "#The first thing you should ask is: what is the value of sigma? \n",
    "#If sigma = 1, the 66.7 percentile lies at x = 0.43cm\n",
    "#But since we know that x = 1cm here, sigma must be greater than 1\n",
    "sigma = 1/prob; print(\"sigma\\t= %f cm\"%sigma)\n",
    "\n",
    "#Solve for time using the equation given\n",
    "t = sigma**2/2/D11;\n",
    "print(\"Time needed for 1/3 of gas to diffuse to the surface is %.2f s\"%t)"
   ]
  },
  {
   "cell_type": "markdown",
   "metadata": {},
   "source": [
    "### 8. How many collisions on average does one of these diffusing CO$_2$ molecule make with other gas molecules on the way from the middle of the vapor space to the surface of the solvent?"
   ]
  },
  {
   "cell_type": "code",
   "execution_count": 5,
   "metadata": {},
   "outputs": [
    {
     "name": "stdout",
     "output_type": "stream",
     "text": [
      "z = 6.543033E+09 s^-1\n",
      "Collision number = 2.415825E+11\n"
     ]
    }
   ],
   "source": [
    "#We know that collision frequency = average speed/mean free path\n",
    "z = v/lambd; print(\"z = %E s^-1\"%z)\n",
    "\n",
    "#number of collision = frequency * time travelled\n",
    "#use travel time from problem 7\n",
    "n = z*t; print(\"Collision number = %E\"%n)"
   ]
  },
  {
   "cell_type": "markdown",
   "metadata": {},
   "source": [
    "### 9. How far in total distance does this typical CO$_2$ molecule travel in the time it takes to reach the solvent surface from the middle of the cell?"
   ]
  },
  {
   "cell_type": "code",
   "execution_count": 6,
   "metadata": {},
   "outputs": [
    {
     "name": "stdout",
     "output_type": "stream",
     "text": [
      "Total distance = 13975.777109 m\n"
     ]
    }
   ],
   "source": [
    "dist = v*t #distance = velocity * time\n",
    "print(\"Total distance = %f m\"%dist)"
   ]
  },
  {
   "cell_type": "markdown",
   "metadata": {},
   "source": [
    "### 10. How many CO$_2$ molecules impinge on the surface of the Stoddard solvent in one second?"
   ]
  },
  {
   "cell_type": "code",
   "execution_count": 7,
   "metadata": {},
   "outputs": [
    {
     "name": "stdout",
     "output_type": "stream",
     "text": [
      "Wall collision frequency = 2.891640E+24\n"
     ]
    }
   ],
   "source": [
    "#use Wall collision frequency equation in notes\n",
    "jw = 1/4*p/(kb*T)*v   #flux = collision/area/time\n",
    "area = np.pi*0.02**2  #area in m^2\n",
    "n = jw*area*1         #flux*area*second = num of collision\n",
    "print(\"Wall collision frequency = %E\"%n)"
   ]
  },
  {
   "cell_type": "markdown",
   "metadata": {
    "collapsed": true
   },
   "source": [
    "### 11. Using your estimate of the diffusion constant in the solvent, how long does it take the same fraction CO$_2$  molecules to diffuse a similar distance in 1-dimension in the liquid phase?"
   ]
  },
  {
   "cell_type": "code",
   "execution_count": 8,
   "metadata": {},
   "outputs": [
    {
     "name": "stdout",
     "output_type": "stream",
     "text": [
      "Time needed for 1/3 of gas to diffuse 1cm in solvent is 164706.11 s\n"
     ]
    }
   ],
   "source": [
    "from scipy.stats import norm\n",
    "t = sigma**2/2/D12;  #calculate t from D12 by using the same as problem 7\n",
    "print(\"Time needed for 1/3 of gas to diffuse 1cm in solvent is %.2f s\"%t)"
   ]
  },
  {
   "cell_type": "markdown",
   "metadata": {},
   "source": [
    "### 12. Is it safe to assume that any CO$_2$ that travels from the surface into the bulk of the solvent is rapidly replaced from the gas phase?"
   ]
  },
  {
   "cell_type": "markdown",
   "metadata": {},
   "source": [
    "Comparing problem 7 & 11, we see that diffusion is order-of-magnitude greater in gas phase than in liquid phase. Hence, gas molecule dissolved into solvent will be rapidly replaced by other gas molecules."
   ]
  },
  {
   "cell_type": "markdown",
   "metadata": {},
   "source": [
    "### 13. Suppose the volume of the gas-handling manifold is 100 cm$^3$ and is pressurized with CO$_2$ in the morning to 1.1 atm.  What will the pressure in the manifold be four hours later, when lab starts, if the manifold has a pinhole of 1 μm$^2$?"
   ]
  },
  {
   "cell_type": "code",
   "execution_count": 9,
   "metadata": {},
   "outputs": [
    {
     "name": "stdout",
     "output_type": "stream",
     "text": [
      "Pressure in the manifold be four hours later = 109948.998355 Pa\n"
     ]
    }
   ],
   "source": [
    "V = 1e-4 #m^3\n",
    "A = 1e-12 #m^2\n",
    "p0= 1.1*101325 #Pa\n",
    "\n",
    "#use effusion from a vessel equation in notes\n",
    "tau = V/A*(2*np.pi*m/(kb*T))**0.5 #tau in s\n",
    "p = p0*np.exp(-4*3600/tau)        #effusion from a vessel equation\n",
    "print(\"Pressure in the manifold be four hours later = %f Pa\"%p)"
   ]
  },
  {
   "cell_type": "code",
   "execution_count": null,
   "metadata": {},
   "outputs": [],
   "source": []
  }
 ],
 "metadata": {
  "anaconda-cloud": {},
  "kernelspec": {
   "display_name": "Python 3",
   "language": "python",
   "name": "python3"
  },
  "language_info": {
   "codemirror_mode": {
    "name": "ipython",
    "version": 3
   },
   "file_extension": ".py",
   "mimetype": "text/x-python",
   "name": "python",
   "nbconvert_exporter": "python",
   "pygments_lexer": "ipython3",
   "version": "3.7.1"
  }
 },
 "nbformat": 4,
 "nbformat_minor": 1
}
