{
 "cells": [
  {
   "cell_type": "markdown",
   "metadata": {},
   "source": [
    "# Chem 30324, Spring 2019, Homework 7\n",
    "\n",
    "# Due March 25, 2019"
   ]
  },
  {
   "cell_type": "markdown",
   "metadata": {},
   "source": [
    "## Quantum mechanics of an H atom: \n",
    "### Consider an excited hydrogen atom with a 2s$^1$ electron configuration. The 2s radial wavefunction is given by $$R_{2,0} = \\frac{1}{\\sqrt{2a_0^3}}(1-\\rho/2)e^{-\\rho/2}, \\rho = r/a_0$$ where $a_0$ = bohr radius. (*Hint:* It’s easiest to solve the following using $a_0$ as the unit of length.)"
   ]
  },
  {
   "cell_type": "markdown",
   "metadata": {},
   "source": [
    "### 1. Provide a hand sketch of the 3-D shape of a 2s wavefunction (“orbital”). Be sure to indicate the *sign* of the wavefunction in each region and the location(s) of nodes. How many radial and how many angular nodes does a 2s electron orbital have?"
   ]
  },
  {
   "cell_type": "markdown",
   "metadata": {},
   "source": [
    "### 2. Plot the radial probability function $P_{20}(r) = r^2\\lvert R_{2,0}(r)\\rvert^2$. Be sure to label both axes appropriately. (*Hint:* Stick with $a_0$ as the length unit.)"
   ]
  },
  {
   "cell_type": "markdown",
   "metadata": {},
   "source": [
    "### 3. Determine and indicate on your plot $\\langle r\\rangle$, the expectation value of the distance of the electron from the nucleus."
   ]
  },
  {
   "cell_type": "markdown",
   "metadata": {},
   "source": [
    "### 4. Determine and indicate on your plot  $r_{MP}$, the most probable distance of the electron from the nucleus."
   ]
  },
  {
   "cell_type": "markdown",
   "metadata": {},
   "source": [
    "### 5. Determine and indicate on your plot the maximum classical distance of the electron from the nucleus in this orbital."
   ]
  },
  {
   "cell_type": "markdown",
   "metadata": {},
   "source": [
    "### 6. What is the probability of finding the electron beyond the classical distance? (Evaluate the necessary integral numerically.)"
   ]
  },
  {
   "cell_type": "markdown",
   "metadata": {},
   "source": [
    "### 7. Can a 2s electron undergo an allowed transition to a lower energy electronic state? If so, what frequency (in cm$^{-1}$) of light would be emitted?"
   ]
  },
  {
   "cell_type": "markdown",
   "metadata": {},
   "source": [
    "## Variations on the hydrogen atom:\n",
    "### The *variational principle* guarantees that the expectation value of the energy of a guessed wavefunction is allows greater than that of the true lowest energy solution. Here you will apply the variational principle to the H atom.  For this problem it is easiest to work in atomic units.  In these units, $\\hbar$, $a_0$, and $4\\pi\\epsilon_0$ are all equal to 1 and the unit of energy is the Hartree, equivalent to 27.212 eV.  In atomic units the H atom Schrödinger equation is written:\n",
    "\n",
    "$$\\left \\{-\\frac{1}{2}\\frac{d^2}{dr^2} - \\frac{1}{r}\\frac{d}{dr}-\\frac{1}{r}+\\frac{l(l+1)}{2r^2}  \\right \\}R(r) = ER(r)$$"
   ]
  },
  {
   "cell_type": "markdown",
   "metadata": {},
   "source": [
    "### 8. Suppose in a fit of panic you forget the 1s radial function when asked on an exam. Not wanting to leave the answer blank, you decide to guess something, and liking bell-shaped curves, you guess $R_{10}(r) = e^{-r^2}$.  Normalize this guess. Do not forget to include the $r^2$ integration factor."
   ]
  },
  {
   "cell_type": "markdown",
   "metadata": {},
   "source": [
    "### 9. Calculate the expectation value of the energy of your normalized guess.  Is it greater or less than the true value?"
   ]
  },
  {
   "cell_type": "markdown",
   "metadata": {},
   "source": [
    "### 10. What does the variational principle say about the expectation value of the energy of your guess as you vary a parameter $\\gamma$ in your guess, $R_{10}=e^{-\\gamma r^2}$?  Suggest a strategy for determining the \"best\" $\\gamma$."
   ]
  },
  {
   "cell_type": "markdown",
   "metadata": {},
   "source": [
    "### 11. *Extra credit*: Determine the best value of $\\gamma$.  Show and carefully justify your work to receive credit."
   ]
  },
  {
   "cell_type": "markdown",
   "metadata": {},
   "source": [
    "## Many-electrons means many troubles\n",
    "### Helium (He) is only one electron larger than hydrogen, but that one more electron makes a big difference in difficulty in setting up and solving the Schrödinger equation."
   ]
  },
  {
   "cell_type": "markdown",
   "metadata": {},
   "source": [
    "### 12. Write down in as much detail as you can the exact Schrödinger equation for the electrons in a He atom."
   ]
  },
  {
   "cell_type": "markdown",
   "metadata": {},
   "source": [
    "### 13. This equation is conventionally solved within the \"independent electron\" approximation, by writing an effective one-electron Schrödinger equation with approximate potentials (shown below in atomic units).  Briefly, what does it mean to solve this equation \"self-consistently\"?\n",
    "\n",
    "$$\\left\\{-\\frac{1}{2}\\nabla^2 - \\frac{2}{r} + \\hat v_\\mathrm{Coul}[\\psi_i] + \\hat\n",
    "            v_\\mathrm{ex}[\\psi_i]+\\hat v_\\mathrm{corr}[\\psi_i] \\right\\}\\psi=\\epsilon\\psi$$\n",
    "            \n"
   ]
  },
  {
   "cell_type": "markdown",
   "metadata": {},
   "source": [
    "### 14. How many solutions are needed to describe the electrons in a He atom?  Provide a possible set of quantum numbers ($n, l, m_l , m _s$)  for each electron."
   ]
  },
  {
   "cell_type": "markdown",
   "metadata": {},
   "source": [
    "### 15. The Schrödinger equation has five terms, or operators, on the left.  Identify the physical meaning of each term and the *sign* of the expectation value when it is applied to one of the solutions."
   ]
  },
  {
   "cell_type": "markdown",
   "metadata": {},
   "source": [
    "### Sophisticated computer programs that solve the many-electron Schrödinger equation are now widely available and powerful tool for predicting the properties of atoms, molecules, solids, and interfaces. *Density functional theory* (DFT) is the most common set of approximations for the electron-electron interactions used today. In this problem you’ll do a DFT calculation using the *Gaussian* program (<http://www.gaussian.com>)."
   ]
  },
  {
   "cell_type": "markdown",
   "metadata": {},
   "source": [
    "### Now, let’s set up your calculation (you may do this with a partner or two if you choose):\n",
    "1. Log into the Webmo server https://www.webmo.net/demoserver/cgi-bin/webmo/login.cgi using \"guest\" as your username and password.\n",
    "2. Select New Job-Creat New Job.\n",
    "3. Use the available tools to draw an atom on the screen.\n",
    "4. Use the right arrow at the bottom to proceed to the Computational Engines.\n",
    "5. Choose Gaussian\n",
    "6. Select “Molecular Orbitals” for the Calculation type, “B3LYP” for theory, “Normal” for the basis set, “0” for the charge, and “Singlet” for the multiplicity.\n",
    "7. Select the right arrow to run the calculation.\n",
    "8. From the job manager window choose the completed calculation to view the results.\n",
    "9. For fun, click on the Magnifying Glass icons to see the molecular orbitals in 3-D. You may have to play around with the Display Settings and Preferences to get good views."
   ]
  },
  {
   "cell_type": "markdown",
   "metadata": {},
   "source": [
    "### 16. Perform calculations on the first four members of the noble gas series (He, Ne, Ar, Kr).  Make a table of energies of the occupied orbitals and identify them by their shell ( $n = 1, 2, \\ldots$) and subshell (s, p, d, ...). "
   ]
  },
  {
   "cell_type": "markdown",
   "metadata": {},
   "source": [
    "### 17. Contrast the energies of the 1s electrons down the series.  Determine the wavelength of light necessary to remove each 1s electron. What range of the spectrum is this light in?"
   ]
  },
  {
   "cell_type": "markdown",
   "metadata": {},
   "source": [
    "### 18. Compare the energies of the highest-energy (valence) electrons compare down the series. Determine the wavelength of light necessary to remove each valence electron. What range of the spectrum is this light in?"
   ]
  },
  {
   "cell_type": "markdown",
   "metadata": {},
   "source": []
  }
 ],
 "metadata": {
  "anaconda-cloud": {},
  "kernelspec": {
   "display_name": "Python [conda env:Python3]",
   "language": "python",
   "name": "conda-env-Python3-py"
  },
  "language_info": {
   "codemirror_mode": {
    "name": "ipython",
    "version": 3
   },
   "file_extension": ".py",
   "mimetype": "text/x-python",
   "name": "python",
   "nbconvert_exporter": "python",
   "pygments_lexer": "ipython3",
   "version": "3.7.2"
  }
 },
 "nbformat": 4,
 "nbformat_minor": 1
}
